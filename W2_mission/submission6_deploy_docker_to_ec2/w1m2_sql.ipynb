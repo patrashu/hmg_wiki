{
 "cells": [
  {
   "cell_type": "code",
   "execution_count": null,
   "metadata": {},
   "outputs": [],
   "source": [
    "import sqlite3  # sqlite3 모듈 임포트\n",
    "import pandas as pd  # pandas 모듈 임포트"
   ]
  },
  {
   "cell_type": "markdown",
   "metadata": {},
   "source": [
    "## Create Database"
   ]
  },
  {
   "cell_type": "code",
   "execution_count": null,
   "metadata": {},
   "outputs": [],
   "source": [
    "# 엑셀 파일 경로\n",
    "excel_file = 'w1m2_sqltut.xlsx'\n",
    "# 데이터베이스 파일 경로\n",
    "database_file = 'df3.db'\n",
    "# 엑셀 파일을 판다스 데이터프레임으로 읽기 (모든 시트)\n",
    "xls = pd.ExcelFile(excel_file)\n",
    "# SQLite 데이터베이스 연결 생성\n",
    "conn = sqlite3.connect(database_file)\n",
    "# 각 시트를 반복하면서 데이터베이스에 테이블로 저장\n",
    "for sheet_name in xls.sheet_names:\n",
    "    # 각 시트를 데이터프레임으로 변환\n",
    "    df = pd.read_excel(xls, sheet_name=sheet_name)\n",
    "    # 각 컬럼별로 map 함수를 사용하여 변환\n",
    "    for col in df.columns:\n",
    "        if df[col].dtype == 'object':  # 문자열 데이터 타입 확인\n",
    "            df[col] = df[col].map(lambda x: x.replace('\\xa0', '').replace('\\xa9', '') if isinstance(x, str) else x)\n",
    "    # 데이터프레임을 SQLite 데이터베이스 테이블로 저장\n",
    "    df.to_sql(sheet_name, conn, if_exists='replace', index=False)"
   ]
  },
  {
   "cell_type": "code",
   "execution_count": null,
   "metadata": {},
   "outputs": [],
   "source": [
    "db_file = 'df3.db'\n",
    "\n",
    "conn = sqlite3.connect(db_file)\n",
    "cursor = conn.cursor()"
   ]
  },
  {
   "cell_type": "markdown",
   "metadata": {},
   "source": [
    "## SELECT"
   ]
  },
  {
   "cell_type": "code",
   "execution_count": null,
   "metadata": {},
   "outputs": [],
   "source": [
    "def query(cursor, query: str):\n",
    "    cursor.execute(query)\n",
    "    for row in cursor.fetchall():\n",
    "        print(row)"
   ]
  },
  {
   "cell_type": "code",
   "execution_count": null,
   "metadata": {},
   "outputs": [],
   "source": [
    "query(cursor, \"SELECT * FROM Customers\")"
   ]
  },
  {
   "cell_type": "code",
   "execution_count": null,
   "metadata": {},
   "outputs": [],
   "source": [
    "query(cursor, \"SELECT CustomerName, City FROM Customers\")"
   ]
  },
  {
   "cell_type": "code",
   "execution_count": null,
   "metadata": {},
   "outputs": [],
   "source": [
    "query(cursor, \"SELECT DISTINCT Country FROM Customers\")"
   ]
  },
  {
   "cell_type": "code",
   "execution_count": null,
   "metadata": {},
   "outputs": [],
   "source": [
    "query(cursor, \"SELECT COUNT(DISTINCT Country) FROM Customers\")"
   ]
  },
  {
   "cell_type": "code",
   "execution_count": null,
   "metadata": {},
   "outputs": [],
   "source": [
    "# Numeric field에서는 single quotes를 사용하지 않아도 됨.\n",
    "# Text field에서는 double quotes와 혼동하지 않도록 single quotes를 사용해야 함.\n",
    "\n",
    "query(cursor, \"SELECT * FROM Customers WHERE Country='Mexico'\")"
   ]
  },
  {
   "cell_type": "code",
   "execution_count": null,
   "metadata": {},
   "outputs": [],
   "source": [
    "query(cursor, \"SELECT * FROM Customers WHERE CustomerID > 80;\")"
   ]
  },
  {
   "cell_type": "code",
   "execution_count": null,
   "metadata": {},
   "outputs": [],
   "source": [
    "# ORDER BY 쿼리 실행\n",
    "query(cursor, \"SELECT * FROM Products ORDER BY Price;\")"
   ]
  },
  {
   "cell_type": "code",
   "execution_count": null,
   "metadata": {},
   "outputs": [],
   "source": [
    "# Numeric Type에서는 숫자의 오름/내림차순으로 정렬 가능\n",
    "# Text Type에서는 알파벳의 사전순/역순으로 정렬 가능\n",
    "# ORDER BY는 중첩해서 사용할 수 있음.\n",
    "\n",
    "query(cursor, \"SELECT * FROM Products ORDER BY Price DESC;\")"
   ]
  },
  {
   "cell_type": "code",
   "execution_count": null,
   "metadata": {},
   "outputs": [],
   "source": [
    "query(cursor, \"SELECT * FROM Customers ORDER BY Country ASC, CustomerName DESC;\")"
   ]
  },
  {
   "cell_type": "code",
   "execution_count": null,
   "metadata": {},
   "outputs": [],
   "source": [
    "query(cursor, \"SELECT * FROM Customers WHERE Country='Spain' AND CustomerName Like 'G%';\")"
   ]
  },
  {
   "cell_type": "code",
   "execution_count": null,
   "metadata": {},
   "outputs": [],
   "source": [
    "query(cursor, \"SELECT * FROM Customers WHERE Country='Germany' AND City='Berlin' AND PostalCode > 12000;\")"
   ]
  },
  {
   "cell_type": "code",
   "execution_count": null,
   "metadata": {},
   "outputs": [],
   "source": [
    "query(\n",
    "    cursor, \n",
    "    \"\"\"\n",
    "    SELECT * \n",
    "    FROM Customers\n",
    "    WHERE Country='Spain' AND (CustomerName LIKE 'G%' or CustomerName LIKE 'R%');      \n",
    "    \"\"\"\n",
    ")"
   ]
  },
  {
   "cell_type": "code",
   "execution_count": null,
   "metadata": {},
   "outputs": [],
   "source": [
    "# 괄호를 작성하지 않은 경우에는 AND -> OR 순으로 쿼리가 진행됨\n",
    "# Spain이면서 G로 시작하는 사람이거나, R로 시작하는 사람을 리턴하는 쿼리\n",
    "\n",
    "query(\n",
    "    cursor, \n",
    "    \"\"\"\n",
    "    SELECT * \n",
    "    FROM Customers\n",
    "    WHERE Country='Spain' AND CustomerName LIKE 'G%' or CustomerName LIKE 'R%'; \n",
    "    \"\"\"\n",
    ")"
   ]
  },
  {
   "cell_type": "code",
   "execution_count": null,
   "metadata": {},
   "outputs": [],
   "source": [
    "query(\n",
    "    cursor, \n",
    "    \"\"\"\n",
    "    SELECT * \n",
    "    FROM Customers \n",
    "    WHERE Country IN ('Germany', 'Spain');\n",
    "    \"\"\"\n",
    ")"
   ]
  },
  {
   "cell_type": "code",
   "execution_count": null,
   "metadata": {},
   "outputs": [],
   "source": [
    "query(\n",
    "    cursor,\n",
    "    \"\"\"\n",
    "    SELECT * \n",
    "    FROM Customers\n",
    "    WHERE City = 'Berlin' OR CustomerName LIKE 'G%' OR Country = 'Norway';\n",
    "    \"\"\"\n",
    ")"
   ]
  },
  {
   "cell_type": "code",
   "execution_count": null,
   "metadata": {},
   "outputs": [],
   "source": [
    "query(\n",
    "    cursor,\n",
    "    \"\"\"\n",
    "    SELECT * \n",
    "    FROM Customers\n",
    "    WHERE NOT Country='Spain';\n",
    "    \"\"\"\n",
    ")"
   ]
  },
  {
   "cell_type": "code",
   "execution_count": null,
   "metadata": {},
   "outputs": [],
   "source": [
    "query(\n",
    "    cursor,\n",
    "    \"\"\"\n",
    "    SELECT * \n",
    "    FROM Customers\n",
    "    WHERE CustomerID NOT BETWEEN 10 AND 60;\n",
    "    \"\"\"\n",
    ")"
   ]
  },
  {
   "cell_type": "code",
   "execution_count": null,
   "metadata": {},
   "outputs": [],
   "source": [
    "query(\n",
    "    cursor,\n",
    "    \"\"\"\n",
    "    SELECT * \n",
    "    FROM Customers\n",
    "    WHERE City NOT IN ('Paris', 'London');\n",
    "    \"\"\"\n",
    ")"
   ]
  },
  {
   "cell_type": "markdown",
   "metadata": {},
   "source": [
    "## INSERT"
   ]
  },
  {
   "cell_type": "markdown",
   "metadata": {},
   "source": [
    "- 엑셀에서 추출한 DB에서는 CustomerID에 대한 AutoIncrement가 빠져있기 때문에 INSERT 명령어를 사용할 때 에러가 발생함\n",
    "- 새로운 DB를 생성하고 원본 DB 내 row들을 새 DB에 옮겨주는 작업 진행"
   ]
  },
  {
   "cell_type": "code",
   "execution_count": null,
   "metadata": {},
   "outputs": [],
   "source": [
    "# 기존 테이블 데이터 백업\n",
    "cursor.execute(\"SELECT * FROM Customers\")\n",
    "rows = cursor.fetchall()\n",
    "\n",
    "# 기존 테이블 구조 확인\n",
    "cursor.execute(\"PRAGMA table_info(Customers);\")\n",
    "columns = cursor.fetchall()\n",
    "print(\"Existing Customers table columns:\")\n",
    "for column in columns:\n",
    "    print(column)\n",
    "\n",
    "print(\"\\nExisting Customers table data:\")\n",
    "for row in rows:\n",
    "    print(row)"
   ]
  },
  {
   "cell_type": "code",
   "execution_count": null,
   "metadata": {},
   "outputs": [],
   "source": [
    "cursor.execute(\"\"\"\n",
    "    CREATE TABLE IF NOT EXISTS Customers_new (\n",
    "        CustomerID INTEGER PRIMARY KEY AUTOINCREMENT,\n",
    "        CustomerName TEXT NOT NULL,\n",
    "        ContactName TEXT,\n",
    "        Address TEXT,\n",
    "        City TEXT,\n",
    "        PostalCode TEXT,\n",
    "        Country TEXT\n",
    "    )\n",
    "\"\"\")\n",
    "conn.commit()"
   ]
  },
  {
   "cell_type": "code",
   "execution_count": null,
   "metadata": {},
   "outputs": [],
   "source": [
    "for row in rows:\n",
    "    cursor.execute(\"\"\"\n",
    "        INSERT INTO Customers_new (CustomerID, CustomerName, ContactName, Address, City, PostalCode, Country)\n",
    "        VALUES (?, ?, ?, ?, ?, ?, ?)\n",
    "    \"\"\", (int(row[0]), row[1], row[2], row[3], row[4], row[5], row[6])\n",
    "    )\n",
    "conn.commit()"
   ]
  },
  {
   "cell_type": "code",
   "execution_count": null,
   "metadata": {},
   "outputs": [],
   "source": [
    "cursor.execute(\"DROP TABLE Customers\")\n",
    "conn.commit()"
   ]
  },
  {
   "cell_type": "code",
   "execution_count": null,
   "metadata": {},
   "outputs": [],
   "source": [
    "cursor.execute(\"ALTER TABLE Customers_new RENAME TO Customers\")\n",
    "conn.commit()"
   ]
  },
  {
   "cell_type": "code",
   "execution_count": null,
   "metadata": {},
   "outputs": [],
   "source": [
    "cursor.execute(\"\"\"\n",
    "    INSERT INTO Customers (CustomerName, ContactName, Address, City, PostalCode, Country)\n",
    "    VALUES ('Cardinal', 'Tom B. Erichsen', 'Skagen 21', 'Stavanger', '4006', 'Norway');\n",
    "\"\"\")\n",
    "\n",
    "query(cursor, \"SELECT * FROM Customers WHERE CustomerName='Cardinal';\")"
   ]
  },
  {
   "cell_type": "code",
   "execution_count": null,
   "metadata": {},
   "outputs": [],
   "source": [
    "cursor.execute(\"\"\"\n",
    "    INSERT INTO Customers (CustomerName, ContactName, Address, City, PostalCode, Country)\n",
    "    VALUES\n",
    "    ('Greasy Burger', 'Per Olsen', 'Gateveien 15', 'Sandnes', '4306', 'Norway'),\n",
    "    ('Tasty Tee', 'Finn Egan', 'Streetroad 19B', 'Liverpool', 'L1 0AA', 'UK');            \n",
    "\"\"\")\n",
    "\n",
    "query(cursor, \"SELECT * FROM Customers ORDER BY CustomerID DESC LIMIT 3;\")"
   ]
  },
  {
   "cell_type": "code",
   "execution_count": null,
   "metadata": {},
   "outputs": [],
   "source": [
    "# NULL값은 말그대로 데이터가 존재하지 않는 상태를 의미하며, 비교/동등 연산자를 통해 쿼리할 수 없음.\n",
    "# IS NULL, IS NOT NULL을 통해 NULL값을 쿼리할 수 있음.\n",
    "\n",
    "query(\n",
    "    cursor,\n",
    "    \"\"\"\n",
    "    SELECT CustomerName, ContactName, Address \n",
    "    FROM Customers\n",
    "    WHERE Address IS NULL;\n",
    "    \"\"\"\n",
    ")"
   ]
  },
  {
   "cell_type": "markdown",
   "metadata": {},
   "source": [
    "## Update"
   ]
  },
  {
   "cell_type": "code",
   "execution_count": null,
   "metadata": {},
   "outputs": [],
   "source": [
    "query(\n",
    "    cursor,\n",
    "    \"\"\"\n",
    "    UPDATE Customers\n",
    "    SET ContactName='Alfred Schmidt', City='Frankfurt'\n",
    "    WHERE CustomerID=1;\n",
    "    \"\"\"\n",
    ")"
   ]
  },
  {
   "cell_type": "code",
   "execution_count": null,
   "metadata": {},
   "outputs": [],
   "source": [
    "# Update에서 Where 절을 작성하지 않으면 모든 행이 업데이트 된다는 것을 주의해야 함.\n",
    "\n",
    "query(\n",
    "    cursor,\n",
    "    \"\"\"\n",
    "    UPDATE Customers\n",
    "    SET ContactName='Juan'\n",
    "    WHERE Country='Mexico';\n",
    "    \"\"\"\n",
    ")"
   ]
  },
  {
   "cell_type": "markdown",
   "metadata": {},
   "source": [
    "## Delete"
   ]
  },
  {
   "cell_type": "code",
   "execution_count": null,
   "metadata": {},
   "outputs": [],
   "source": [
    "# Delete에서 Where 절을 작성하지 않으면 모든 행이 삭제된다는 것을 주의해야 함.\n",
    "# Drop Table은 테이블 자체를 삭제하는 것이므로 주의해야 함. (둘이 다름)\n",
    "\n",
    "query(\n",
    "    cursor,\n",
    "    \"\"\"\n",
    "    DELETE FROM Customers\n",
    "    Where CustomerName='Alfreds Futterkiste';\n",
    "    \"\"\"\n",
    ")"
   ]
  },
  {
   "cell_type": "code",
   "execution_count": null,
   "metadata": {},
   "outputs": [],
   "source": [
    "query(\n",
    "    cursor,\n",
    "    \"\"\"\n",
    "    SELECT * FROM Customers LIMIT 3;\n",
    "    \"\"\"\n",
    ")\n",
    "\n",
    "print()\n",
    "query(\n",
    "    cursor,\n",
    "    \"\"\"\n",
    "    SELECT * FROM Customers \n",
    "    WHERE Country='Germany'\n",
    "    LIMIT 3;\n",
    " \"\"\"\n",
    ")"
   ]
  },
  {
   "cell_type": "markdown",
   "metadata": {},
   "source": [
    "## Aggregation Function"
   ]
  },
  {
   "cell_type": "code",
   "execution_count": null,
   "metadata": {},
   "outputs": [],
   "source": [
    "query(\n",
    "    cursor,\n",
    "    \"\"\"\n",
    "    SELECT MIN(Price) AS MinPrice, MAX(Price) AS MaxPrice, AVG(Price) AS AvgPrice\n",
    "    FROM Products;\n",
    "    \"\"\"\n",
    ")\n",
    "\n",
    "query(\n",
    "    cursor,\n",
    "    \"\"\"\n",
    "    SELECT CategoryID, MIN(Price) AS MinPrice\n",
    "    FROM Products\n",
    "    GROUP BY CategoryID;\n",
    "    \"\"\"\n",
    ")"
   ]
  },
  {
   "cell_type": "code",
   "execution_count": null,
   "metadata": {},
   "outputs": [],
   "source": [
    "# COUNT 함수는 특정 컬럼의 값이 NULL인 경우는 제외하고 카운트함.\n",
    "\n",
    "query(\n",
    "    cursor,\n",
    "    \"\"\"\n",
    "    SELECT COUNT(*) AS TotalCount\n",
    "    FROM Products;\n",
    "    \"\"\"\n",
    ")"
   ]
  },
  {
   "cell_type": "code",
   "execution_count": null,
   "metadata": {},
   "outputs": [],
   "source": [
    "# Alias를 여러 word로 사용할 경우에는 대괄호로 묶어줘야 함.\n",
    "\n",
    "query(\n",
    "    cursor,\n",
    "    \"\"\"\n",
    "    SELECT COUNT(*) AS [Number of records], CategoryID\n",
    "    FROM Products\n",
    "    GROUP BY CategoryID;\n",
    "    \"\"\"\n",
    ")"
   ]
  },
  {
   "cell_type": "code",
   "execution_count": null,
   "metadata": {},
   "outputs": [],
   "source": [
    "query(\n",
    "    cursor, \n",
    "    \"\"\"\n",
    "    SELECT SUM(Quantity) AS TotalQuantity\n",
    "    FROM OrderDetails\n",
    "    WHERE ProductID=11;\n",
    "    \"\"\"\n",
    ")\n",
    "print()\n",
    "\n",
    "query(\n",
    "    cursor,\n",
    "    \"\"\"\n",
    "    SELECT OrderID, SUM(Quantity) AS TotalQuantity\n",
    "    FROM OrderDetails\n",
    "    GROUP BY OrderID;\n",
    "    \"\"\"\n",
    ")"
   ]
  },
  {
   "cell_type": "code",
   "execution_count": null,
   "metadata": {},
   "outputs": [],
   "source": [
    "# LEFT JOIN\n",
    "\n",
    "query(\n",
    "    cursor,\n",
    "    \"\"\"\n",
    "    SELECT SUM(Price * Quantity) AS TotalPrice\n",
    "    FROM OrderDetails\n",
    "    LEFT JOIN Products ON OrderDetails.ProductID = Products.ProductID;\n",
    "    \"\"\"\n",
    ")"
   ]
  },
  {
   "cell_type": "code",
   "execution_count": null,
   "metadata": {},
   "outputs": [],
   "source": [
    "# NULL값은 자동으로 무시되어 처리됨.\n",
    "# Subquery를 사용하여 처리할 수 있음.\n",
    "\n",
    "query(\n",
    "    cursor,\n",
    "    \"\"\"\n",
    "    SELECT AVG(Price) AS AvgPrice\n",
    "    FROM Products;\n",
    "    \"\"\"\n",
    ")\n",
    "print()\n",
    "\n",
    "query(\n",
    "    cursor,\n",
    "    \"\"\"\n",
    "    SELECT * FROM Products\n",
    "    WHERE price > (SELECT AVG(Price) FROM Products);\n",
    "    \"\"\"\n",
    ")\n",
    "\n",
    "query(\n",
    "    cursor,\n",
    "    \"\"\"\n",
    "    SELECT AVG(Price) AS AvgPrice, CategoryID\n",
    "    FROM Products\n",
    "    GROUP BY CategoryID;\n",
    "    \"\"\"\n",
    ")"
   ]
  },
  {
   "cell_type": "code",
   "execution_count": null,
   "metadata": {},
   "outputs": [],
   "source": [
    "# LIKE 조건에 있는 영문자의 경우, 대/소문자를 구분하지 않음.\n",
    "# %는 0개 이상의 문자를 의미하며, _는 1개의 문자를 의미함. (a% => startswith(a)와 동일)\n",
    "# %ab% => contains(ab)와 동일\n",
    "\n",
    "query(\n",
    "    cursor,\n",
    "    \"\"\"\n",
    "    SELECT *\n",
    "    FROM Customers \n",
    "    WHERE CustomerName LIKE 'a%';\n",
    "    \"\"\"\n",
    ")\n",
    "\n",
    "query(\n",
    "    cursor,\n",
    "    \"\"\"\n",
    "    SELECT * \n",
    "    FROM Customers\n",
    "    WHERE city LIKE 'L_nd__';\n",
    "    \"\"\"\n",
    ")\n",
    "\n",
    "query(\n",
    "    cursor, \n",
    "    \"\"\"\n",
    "    SELECT *\n",
    "    FROM Customers\n",
    "    WHERE CustomerName LIKE '%a';\n",
    "    \"\"\"\n",
    ")"
   ]
  },
  {
   "cell_type": "code",
   "execution_count": null,
   "metadata": {},
   "outputs": [],
   "source": [
    "query(\n",
    "    cursor,\n",
    "    \"\"\"\n",
    "    SELECT * \n",
    "    FROM Customers\n",
    "    WHERE CustomerName LIKE '[a-c]%';\n",
    "    \"\"\"\n",
    ")"
   ]
  },
  {
   "cell_type": "code",
   "execution_count": null,
   "metadata": {},
   "outputs": [],
   "source": [
    "# IN 구분은 여러 값들을 OR로 묶어서 처리할 때 사용함. (OR로 대체 가능하나, 코드 가독성을 위해 사용)\n",
    "\n",
    "query(\n",
    "    cursor,\n",
    "    \"\"\"\n",
    "    SELECT *\n",
    "    FROM Customers\n",
    "    WHERE Country IN ('Germany', 'France', 'UK');\n",
    "    \"\"\"\n",
    ")\n",
    "\n",
    "query(\n",
    "    cursor,\n",
    "    \"\"\"\n",
    "    SELECT *\n",
    "    FROM Customers\n",
    "    WHERE CustomerID IN (SELECT CustomerID FROM Orders);\n",
    "    \"\"\"\n",
    ")"
   ]
  },
  {
   "cell_type": "code",
   "execution_count": null,
   "metadata": {},
   "outputs": [],
   "source": [
    "# BETWEEN은 시작값과 끝값을 포함하여 처리함. (>=, <=와 동일)\n",
    "# BETWEEN 할 값이 Text Type인 경우, 알파벳 순서로 처리함.\n",
    "\n",
    "query(\n",
    "    cursor,\n",
    "    \"\"\"\n",
    "    SELECT * \n",
    "    FROM Products\n",
    "    WHERE Price BETWEEN 10 AND 20;\n",
    "    \"\"\"\n",
    ")\n",
    "\n",
    "query(\n",
    "    cursor,\n",
    "    \"\"\"\n",
    "    SELECT *\n",
    "    FROM Products\n",
    "    WHERE ProductName BETWEEN 'Carnarvon Tigers' AND 'Mozzarella di Govanni'\n",
    "    ORDER BY ProductName;\n",
    "    \"\"\"\n",
    ")\n",
    "\n",
    "query(\n",
    "    cursor,\n",
    "    \"\"\"\n",
    "    SELECT * \n",
    "    FROM Orders\n",
    "    WHERE OrderDate BETWEEN '1996-07-01' AND '1996-07-31';\n",
    "    \"\"\"\n",
    ")"
   ]
  },
  {
   "cell_type": "code",
   "execution_count": null,
   "metadata": {},
   "outputs": [],
   "source": [
    "# Alias는 테이블이나 컬럼에 대한 별칭을 지정할 때 사용함.\n",
    "# 특히, AGGREGATE FUNCTION을 사용할 때, Alias를 사용하여 컬럼명을 지정할 수 있음.\n",
    "# Alias에서 multiple words를 사용할 경우, 대괄호 혹은 Double quotes로 묶어줘야 함.\n",
    "\n",
    "query(\n",
    "    cursor,\n",
    "    \"\"\"\n",
    "    SELECT CustomerID AS ID, CustomerName AS Customer\n",
    "    FROM Customers;\n",
    "    \"\"\"\n",
    ")\n"
   ]
  },
  {
   "cell_type": "code",
   "execution_count": null,
   "metadata": {},
   "outputs": [],
   "source": [
    "# Concatename columns를 진행할 때 mysql은 CONCAT 함수를 사용함\n",
    "# 기본은 +임\n",
    "# Table 또한 Alias를 사용하여 조인할 때 편리하게 사용가능함.\n",
    "\n",
    "query(\n",
    "    cursor,\n",
    "    \"\"\"\n",
    "    SELECT CustomerName, Address + ', ' + PostalCode + ' ' + City + ', ' + Country AS Address\n",
    "    FROM Customers;\n",
    "    \"\"\"\n",
    ")"
   ]
  },
  {
   "cell_type": "markdown",
   "metadata": {},
   "source": [
    "## Join"
   ]
  },
  {
   "cell_type": "code",
   "execution_count": null,
   "metadata": {},
   "outputs": [],
   "source": [
    "# Join은 두 개 이상의 테이블을 연결하여 데이터를 가져오는 방법임.\n",
    "# 그냥 JOIN을 사용하면 INNER JOIN과 동일하게 작동함.\n",
    "\n",
    "query(\n",
    "    cursor,\n",
    "    \"\"\"\n",
    "    SELECT Orders.OrderID, Customers.CustomerName, Orders.OrderDate\n",
    "    FROM Orders\n",
    "    INNER JOIN Customers ON Orders.CustomerID=Customers.CustomerID;\n",
    "    \"\"\"\n",
    ")\n",
    "\n",
    "query(\n",
    "    cursor,\n",
    "    \"\"\"\n",
    "    SELECT Orders.OrderID, Customers.CustomerName, Shippers.ShipperName\n",
    "    FROM ((Orders\n",
    "    INNER JOIN Customers ON Orders.CustomerID = Customers.CustomerID)\n",
    "    INNER JOIN Shippers ON Orders.ShipperID = Shippers.ShipperID);\n",
    "    \"\"\"\n",
    ")"
   ]
  },
  {
   "cell_type": "code",
   "execution_count": null,
   "metadata": {},
   "outputs": [],
   "source": [
    "query(\n",
    "    cursor,\n",
    "    \"\"\"\n",
    "    SELECT Customers.CustomerName, Orders.OrderID\n",
    "    FROM Customers\n",
    "    LEFT JOIN Orders ON Customers.CustomerID = Orders.CustomerID\n",
    "    ORDER BY Customers.CustomerName;\n",
    "    \"\"\"\n",
    ")"
   ]
  },
  {
   "cell_type": "code",
   "execution_count": null,
   "metadata": {},
   "outputs": [],
   "source": [
    "query(\n",
    "    cursor,\n",
    "    \"\"\"\n",
    "    SELECT Orders.OrderID, Employees.LastName, Employees.FirstName\n",
    "    FROM Orders\n",
    "    RIGHT JOIN Employees ON Orders.EmployeeID = Employees.EmployeeID\n",
    "    ORDER BY Orders.OrderID;\n",
    "    \"\"\"\n",
    ")"
   ]
  },
  {
   "cell_type": "code",
   "execution_count": null,
   "metadata": {},
   "outputs": [],
   "source": [
    "query(\n",
    "    cursor,\n",
    "    \"\"\"\n",
    "    SELECT Customers.CustomerName, Orders.OrderID\n",
    "    FROM Customers\n",
    "    FULL OUTER JOIN Orders ON Customers.CustomerID = Orders.CustomerID\n",
    "    ORDER BY Customers.CustomerName;\n",
    "    \"\"\"\n",
    ")"
   ]
  },
  {
   "cell_type": "code",
   "execution_count": null,
   "metadata": {},
   "outputs": [],
   "source": [
    "query(\n",
    "    cursor,\n",
    "    \"\"\"\n",
    "    SELECT A.CustomerName AS CustomerName1, B.CustomerName AS CustomerName2, A.City\n",
    "    FROM Customers A, Customers B\n",
    "    WHERE A.CustomerID <> B.CustomerID\n",
    "    AND A.City = B.City\n",
    "    ORDER BY A.City;\n",
    "    \"\"\"\n",
    ")"
   ]
  },
  {
   "cell_type": "code",
   "execution_count": null,
   "metadata": {},
   "outputs": [],
   "source": [
    "# Union은 기본적으로 두 테이블 간 중복을 제거하고 합집합을 구함\n",
    "# Union All은 중복을 제거하지 않고 합집합을 구함\n",
    "\n",
    "query(\n",
    "    cursor,\n",
    "    \"\"\"\n",
    "    SELECT City FROM Customers\n",
    "    UNION\n",
    "    SELECT City FROM Suppliers\n",
    "    ORDER BY City;\n",
    "    \"\"\"\n",
    ")"
   ]
  },
  {
   "cell_type": "code",
   "execution_count": null,
   "metadata": {},
   "outputs": [],
   "source": [
    "query(\n",
    "    cursor,\n",
    "    \"\"\"\n",
    "    SELECT 'Customer' AS Type, ContactName, City, Country\n",
    "    FROM Customers\n",
    "    UNION\n",
    "    SELECT 'Supplier', ContactName, City, Country\n",
    "    FROM Suppliers;\n",
    "    \"\"\"\n",
    ")"
   ]
  },
  {
   "cell_type": "code",
   "execution_count": null,
   "metadata": {},
   "outputs": [],
   "source": [
    "# Group By는 특정 컬럼을 기준으로 데이터를 그룹화하며, 보통 Aggregate Function과 함께 사용함.\n",
    "\n",
    "query(\n",
    "    cursor,\n",
    "    \"\"\"\n",
    "    SELECT COUNT(CustomerID) AS CustomerCnt, Country\n",
    "    FROM Customers\n",
    "    GROUP BY Country\n",
    "    ORDER BY CustomerCnt DESC;\n",
    "    \"\"\"\n",
    ")\n",
    "\n",
    "query(\n",
    "    cursor,\n",
    "    \"\"\"\n",
    "    SELECT s.ShipperName, COUNT(o.OrderID) AS OrderCnt \n",
    "    FROM Orders o\n",
    "    LEFT JOIN Shippers s ON o.shipperID = s.ShipperID\n",
    "    GROUP BY s.ShipperName\n",
    "    \"\"\"\n",
    ")"
   ]
  },
  {
   "cell_type": "code",
   "execution_count": null,
   "metadata": {},
   "outputs": [],
   "source": [
    "# Where절은 Aggregate Function과 사용되지 않으며, 사용하고 싶다면 Having 절을 사용해야 함.\n",
    "\n",
    "query(\n",
    "    cursor,\n",
    "    \"\"\"\n",
    "    SELECT COUNT(CustomerID) AS CustomerCNT, Country\n",
    "    FROM Customers\n",
    "    GROUP BY Country\n",
    "    HAVING COUNT(CustomerID) > 5\n",
    "    ORDER BY CustomerCNT DESC;\n",
    "    \"\"\"\n",
    ")\n",
    "\n",
    "query(\n",
    "    cursor,\n",
    "    \"\"\"\n",
    "        SELECT e.LastName, COuNT(o.OrderID) AS OrderCnt\n",
    "        FROM (\n",
    "            Orders o\n",
    "            INNER JOIN Employees e ON o.EmployeeID = e.EmployeeID\n",
    "        )\n",
    "        GROUP BY e.LastName\n",
    "        HAVING COUNT(o.OrderID) > 10;\n",
    "    \"\"\"\n",
    ")\n",
    "\n",
    "query(\n",
    "    cursor,\n",
    "    \"\"\"\n",
    "    SELECT e.LastName, COUNT(o.OrderID) AS OrderCnt \n",
    "    FROM Orders o\n",
    "    INNER JOIN Employees e ON o.EmployeeID=e.EmployeeID\n",
    "    WHERE LastName='Davolio' OR LastName='Fuller'\n",
    "    GROUP BY e.LastName\n",
    "    HAVING COUNT(o.OrderID) > 25;\n",
    "    \"\"\"\n",
    ")"
   ]
  },
  {
   "cell_type": "code",
   "execution_count": null,
   "metadata": {},
   "outputs": [],
   "source": [
    "# Exists는 Subquery의 결과가 존재하는지 확인하는 함수임. (T/F를 반환함)\n",
    "\n",
    "query(\n",
    "    cursor,\n",
    "    \"\"\"\n",
    "    SELECT SupplierName\n",
    "    FROM Suppliers\n",
    "    WHERE EXISTS (\n",
    "        SELECT ProductName\n",
    "        FROM Products\n",
    "        WHERE Products.SupplierID = Suppliers.SupplierID AND Price < 20    \n",
    "    );\n",
    "    \"\"\"    \n",
    ")\n",
    "\n",
    "query(\n",
    "    cursor,\n",
    "    \"\"\"\n",
    "    SELECT SupplierName\n",
    "    FROM Suppliers\n",
    "    WHERE EXISTS (\n",
    "        SELECT ProductName\n",
    "        FROM Products\n",
    "        WHERE Products.SupplierID = Suppliers.SupplierID AND Price == 22   \n",
    "    );\n",
    "    \"\"\"    \n",
    ")"
   ]
  },
  {
   "cell_type": "code",
   "execution_count": null,
   "metadata": {},
   "outputs": [],
   "source": [
    "# ANY, ALL은 Subquery의 결과가 조건에 부합하는지 확인하는 함수임.\n",
    "# ANY는 하나만 부합하면 True를 반환하며, ALL은 모두 부합해야 True를 반환함.\n",
    "\n",
    "query(\n",
    "    cursor,\n",
    "    \"\"\"\n",
    "    SELECT ProductName\n",
    "    FROM Products\n",
    "    WHERE ProductID = ANY\n",
    "    (SELECT ProductID\n",
    "    FROM OrderDetails\n",
    "    WHERE Quantity = 10);\n",
    "    \"\"\"\n",
    ") \n"
   ]
  },
  {
   "cell_type": "code",
   "execution_count": null,
   "metadata": {},
   "outputs": [],
   "source": [
    "# SELECT INTO는 새로운 테이블을 생성하고 데이터를 복사하는 방법임.\n",
    "# SQLite3에서는 INTO 구문을 지원하지 않음.\n",
    "# 여러개의 테이블을 조인하여 새로운 테이블을 생성할 수 있음.\n",
    "\n",
    "\"\"\"\n",
    "SELECT col1, col2, ...\n",
    "INTO newtable [IN externaldb]\n",
    "FROM oldtable\n",
    "WHERE condition;\n",
    "\"\"\"\n",
    "\n",
    "query(\n",
    "    cursor,\n",
    "    \"\"\"\n",
    "    SELECT * \n",
    "    INTO CustomersBackup\n",
    "    IN 'test.db'\n",
    "    FROM Customers;\n",
    "    \"\"\"\n",
    ")"
   ]
  },
  {
   "cell_type": "code",
   "execution_count": null,
   "metadata": {},
   "outputs": [],
   "source": [
    "# INSERT INTO SELECT는 기존 테이블에서 데이터를 복사하여 새로운 테이블을 생성하는 방법임.\n",
    "\n",
    "\"\"\"\n",
    "INSERT INTO table2 (column1, column2, column3, ...)\n",
    "SELECT column1, column2, column3, ...\n",
    "FROM table1\n",
    "WHERE condition;\n",
    "\"\"\"\n",
    "\n",
    "query(\n",
    "    cursor,\n",
    "    \"\"\"\n",
    "    INSERT INTO Customers (CustomerName, ContactName, Address, City, PostalCode, Country)\n",
    "    SELECT SupplierName, ContactName, Address, City, PostalCode, Country \n",
    "    FROM Suppliers;\n",
    "    \"\"\"\n",
    ")"
   ]
  },
  {
   "cell_type": "code",
   "execution_count": null,
   "metadata": {},
   "outputs": [],
   "source": [
    "# CASE는 조건에 따라 다른 값을 반환하는 함수임.\n",
    "# SELECT, WHERE, ORDER BY, GROUP BY, HAVING, INSERT, UPDATE, DELETE 등 다양한 구문에서 사용 가능함.\n",
    "\n",
    "\"\"\"\n",
    "CASE\n",
    "    WHEN condition1 THEN result1\n",
    "    WHEN condition2 THEN result2\n",
    "    WHEN conditionN THEN resultN\n",
    "    ELSE result\n",
    "END (AS alias);\n",
    "\"\"\"\n",
    "\n",
    "query(\n",
    "    cursor,\n",
    "    \"\"\"\n",
    "    SELECT CustomerName, City, Country\n",
    "    FROM Customers\n",
    "    ORDER BY(\n",
    "        CASE\n",
    "            WHEN City is NULL THEN Country\n",
    "            ELSE City\n",
    "        END\n",
    "    );\n",
    "    \"\"\"\n",
    ")"
   ]
  },
  {
   "cell_type": "code",
   "execution_count": null,
   "metadata": {},
   "outputs": [],
   "source": [
    "# IFNULL(ISNULL)은 NULL값을 다른 값으로 대체하는 함수임. \n",
    "# COALESCE는 인수 중 첫 번째로 NULL이 아닌 값을 반환\n",
    "\n",
    "\"\"\"\n",
    "IFNULL(expression, alt_value) # MySQL\n",
    "COALESCE(expression1, expression2, expression3, ...) # Any SQL\n",
    "NVL(expression, alt_value) # Oracle\n",
    "\"\"\"\n",
    "\n",
    "query(\n",
    "    cursor,\n",
    "    \"\"\"\n",
    "    SELECT ProductName, (UnitsInStock + COALESCE(UnitsOnOrder, 0))\n",
    "    FROM Products;\n",
    "    \"\"\"\n",
    ")"
   ]
  },
  {
   "cell_type": "code",
   "execution_count": null,
   "metadata": {},
   "outputs": [],
   "source": [
    "# Stored Procedure는 SQL 명령문을 저장하고 실행(재사용)할 수 있는 함수임.\n",
    "\n",
    "\"\"\"\n",
    "CREATE PROCEDURE procedure_name\n",
    "AS \n",
    "SQL Statements\n",
    "GO;\n",
    "\n",
    "EXEC procedure_name;\n",
    "\"\"\"\n",
    "\n",
    "# 다중 Parameter를 사용할 수 있으며, Parameter를 사용할 때는 @를 사용함.\n",
    "\"\"\"\n",
    "CREATE PROCEDURE SelectAllCustomers @City nvarchar(30), @PostalCode nvarchar(10)\n",
    "AS\n",
    "SELECT * FROM Customers WHERE City = @City AND PostalCode = @PostalCode\n",
    "GO;\n",
    "\"\"\""
   ]
  }
 ],
 "metadata": {
  "kernelspec": {
   "display_name": "Python 3",
   "language": "python",
   "name": "python3"
  },
  "language_info": {
   "codemirror_mode": {
    "name": "ipython",
    "version": 3
   },
   "file_extension": ".py",
   "mimetype": "text/x-python",
   "name": "python",
   "nbconvert_exporter": "python",
   "pygments_lexer": "ipython3",
   "version": "3.10.14"
  }
 },
 "nbformat": 4,
 "nbformat_minor": 2
}
