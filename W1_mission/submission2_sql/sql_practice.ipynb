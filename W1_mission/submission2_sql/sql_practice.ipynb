{
 "cells": [
  {
   "cell_type": "code",
   "execution_count": 1,
   "metadata": {},
   "outputs": [],
   "source": [
    "import sqlite3  # sqlite3 모듈 임포트\n",
    "import pandas as pd  # pandas 모듈 임포트"
   ]
  },
  {
   "cell_type": "markdown",
   "metadata": {},
   "source": [
    "## Create Database"
   ]
  },
  {
   "cell_type": "code",
   "execution_count": null,
   "metadata": {},
   "outputs": [],
   "source": [
    "# 엑셀 파일 경로\n",
    "excel_file = 'sqltut.xlsx'\n",
    "# 데이터베이스 파일 경로\n",
    "database_file = 'df3.db'\n",
    "# 엑셀 파일을 판다스 데이터프레임으로 읽기 (모든 시트)\n",
    "xls = pd.ExcelFile(excel_file)\n",
    "# SQLite 데이터베이스 연결 생성\n",
    "conn = sqlite3.connect(database_file)\n",
    "# 각 시트를 반복하면서 데이터베이스에 테이블로 저장\n",
    "for sheet_name in xls.sheet_names:\n",
    "    # 각 시트를 데이터프레임으로 변환\n",
    "    df = pd.read_excel(xls, sheet_name=sheet_name)\n",
    "    # 각 컬럼별로 map 함수를 사용하여 변환\n",
    "    for col in df.columns:\n",
    "        if df[col].dtype == 'object':  # 문자열 데이터 타입 확인\n",
    "            df[col] = df[col].map(lambda x: x.replace('\\xa0', '').replace('\\xa9', '') if isinstance(x, str) else x)\n",
    "    # 데이터프레임을 SQLite 데이터베이스 테이블로 저장\n",
    "    df.to_sql(sheet_name, conn, if_exists='replace', index=False)"
   ]
  },
  {
   "cell_type": "code",
   "execution_count": 3,
   "metadata": {},
   "outputs": [],
   "source": [
    "db_url = 'sqlite:///df3.db'\n",
    "\n",
    "conn = sqlite3.connect(database_file)\n",
    "cursor = conn.cursor()"
   ]
  },
  {
   "cell_type": "markdown",
   "metadata": {},
   "source": [
    "## SELECT"
   ]
  },
  {
   "cell_type": "code",
   "execution_count": 4,
   "metadata": {},
   "outputs": [],
   "source": [
    "def query(cursor, query: str):\n",
    "    cursor.execute(query)\n",
    "    for row in cursor.fetchall():\n",
    "        print(row)"
   ]
  },
  {
   "cell_type": "code",
   "execution_count": null,
   "metadata": {},
   "outputs": [],
   "source": [
    "query(cursor, \"SELECT * FROM Customers\")"
   ]
  },
  {
   "cell_type": "code",
   "execution_count": null,
   "metadata": {},
   "outputs": [],
   "source": [
    "query(cursor, \"SELECT CustomerName, City FROM Customers\")"
   ]
  },
  {
   "cell_type": "code",
   "execution_count": null,
   "metadata": {},
   "outputs": [],
   "source": [
    "query(cursor, \"SELECT DISTINCT Country FROM Customers\")"
   ]
  },
  {
   "cell_type": "code",
   "execution_count": 87,
   "metadata": {},
   "outputs": [
    {
     "name": "stdout",
     "output_type": "stream",
     "text": [
      "(20,)\n"
     ]
    }
   ],
   "source": [
    "query(cursor, \"SELECT COUNT(DISTINCT Country) FROM Customers\")"
   ]
  },
  {
   "cell_type": "code",
   "execution_count": null,
   "metadata": {},
   "outputs": [],
   "source": [
    "# Numeric field에서는 single quotes를 사용하지 않아도 됨.\n",
    "# Text field에서는 double quotes와 혼동하지 않도록 single quotes를 사용해야 함.\n",
    "\n",
    "query(cursor, \"SELECT * FROM Customers WHERE Country='Mexico'\")"
   ]
  },
  {
   "cell_type": "code",
   "execution_count": null,
   "metadata": {},
   "outputs": [],
   "source": [
    "query(cursor, \"SELECT * FROM Customers WHERE CustomerID > 80;\")"
   ]
  },
  {
   "cell_type": "code",
   "execution_count": null,
   "metadata": {},
   "outputs": [],
   "source": [
    "# ORDER BY 쿼리 실행\n",
    "query(cursor, \"SELECT * FROM Products ORDER BY Price;\")"
   ]
  },
  {
   "cell_type": "code",
   "execution_count": null,
   "metadata": {},
   "outputs": [],
   "source": [
    "# Numeric Type에서는 숫자의 오름/내림차순으로 정렬 가능\n",
    "# Text Type에서는 알파벳의 사전순/역순으로 정렬 가능\n",
    "# ORDER BY는 중첩해서 사용할 수 있음.\n",
    "\n",
    "query(cursor, \"SELECT * FROM Products ORDER BY Price DESC;\")"
   ]
  },
  {
   "cell_type": "code",
   "execution_count": null,
   "metadata": {},
   "outputs": [],
   "source": [
    "query(cursor, \"SELECT * FROM Customers ORDER BY Country ASC, CustomerName DESC;\")"
   ]
  },
  {
   "cell_type": "code",
   "execution_count": 93,
   "metadata": {},
   "outputs": [
    {
     "name": "stdout",
     "output_type": "stream",
     "text": [
      "('29', 'Galería del gastrónomo', 'Eduardo Saavedra', 'Rambla de Cataluña, 23', 'Barcelona', '08022', 'Spain')\n",
      "('30', 'Godos Cocina Típica', 'José Pedro Freyre', 'C/ Romero, 33', 'Sevilla', '41101', 'Spain')\n"
     ]
    }
   ],
   "source": [
    "query(cursor, \"SELECT * FROM Customers WHERE Country='Spain' AND CustomerName Like 'G%';\")"
   ]
  },
  {
   "cell_type": "code",
   "execution_count": 94,
   "metadata": {},
   "outputs": [
    {
     "name": "stdout",
     "output_type": "stream",
     "text": [
      "('1', 'Alfreds Futterkiste', 'Maria Anders', 'Obere Str. 57', 'Berlin', '12209', 'Germany')\n"
     ]
    }
   ],
   "source": [
    "query(cursor, \"SELECT * FROM Customers WHERE Country='Germany' AND City='Berlin' AND PostalCode > 12000;\")"
   ]
  },
  {
   "cell_type": "code",
   "execution_count": 95,
   "metadata": {},
   "outputs": [
    {
     "name": "stdout",
     "output_type": "stream",
     "text": [
      "('29', 'Galería del gastrónomo', 'Eduardo Saavedra', 'Rambla de Cataluña, 23', 'Barcelona', '08022', 'Spain')\n",
      "('30', 'Godos Cocina Típica', 'José Pedro Freyre', 'C/ Romero, 33', 'Sevilla', '41101', 'Spain')\n",
      "('69', 'Romero y tomillo', 'Alejandra Camino', 'Gran Vía, 1', 'Madrid', '28001', 'Spain')\n"
     ]
    }
   ],
   "source": [
    "query(\n",
    "    cursor, \n",
    "    \"\"\"\n",
    "    SELECT * \n",
    "    FROM Customers\n",
    "    WHERE Country='Spain' AND (CustomerName LIKE 'G%' or CustomerName LIKE 'R%');      \n",
    "    \"\"\"\n",
    ")"
   ]
  },
  {
   "cell_type": "code",
   "execution_count": null,
   "metadata": {},
   "outputs": [],
   "source": [
    "# 괄호를 작성하지 않은 경우에는 AND -> OR 순으로 쿼리가 진행됨\n",
    "# Spain이면서 G로 시작하는 사람이거나, R로 시작하는 사람을 리턴하는 쿼리\n",
    "\n",
    "query(\n",
    "    cursor, \n",
    "    \"\"\"\n",
    "    SELECT * \n",
    "    FROM Customers\n",
    "    WHERE Country='Spain' AND CustomerName LIKE 'G%' or CustomerName LIKE 'R%'; \n",
    "    \"\"\"\n",
    ")"
   ]
  },
  {
   "cell_type": "code",
   "execution_count": null,
   "metadata": {},
   "outputs": [],
   "source": [
    "query(\n",
    "    cursor, \n",
    "    \"\"\"\n",
    "    SELECT * \n",
    "    FROM Customers \n",
    "    WHERE Country IN ('Germany', 'Spain');\n",
    "    \"\"\"\n",
    ")"
   ]
  },
  {
   "cell_type": "code",
   "execution_count": null,
   "metadata": {},
   "outputs": [],
   "source": [
    "query(\n",
    "    cursor,\n",
    "    \"\"\"\n",
    "    SELECT * \n",
    "    FROM Customers\n",
    "    WHERE City = 'Berlin' OR CustomerName LIKE 'G%' OR Country = 'Norway';\n",
    "    \"\"\"\n",
    ")"
   ]
  },
  {
   "cell_type": "code",
   "execution_count": null,
   "metadata": {},
   "outputs": [],
   "source": [
    "query(\n",
    "    cursor,\n",
    "    \"\"\"\n",
    "    SELECT * \n",
    "    FROM Customers\n",
    "    WHERE NOT Country='Spain';\n",
    "    \"\"\"\n",
    ")"
   ]
  },
  {
   "cell_type": "code",
   "execution_count": null,
   "metadata": {},
   "outputs": [],
   "source": [
    "query(\n",
    "    cursor,\n",
    "    \"\"\"\n",
    "    SELECT * \n",
    "    FROM Customers\n",
    "    WHERE CustomerID NOT BETWEEN 10 AND 60;\n",
    "    \"\"\"\n",
    ")"
   ]
  },
  {
   "cell_type": "code",
   "execution_count": null,
   "metadata": {},
   "outputs": [],
   "source": [
    "query(\n",
    "    cursor,\n",
    "    \"\"\"\n",
    "    SELECT * \n",
    "    FROM Customers\n",
    "    WHERE City NOT IN ('Paris', 'London');\n",
    "    \"\"\"\n",
    ")"
   ]
  },
  {
   "cell_type": "markdown",
   "metadata": {},
   "source": [
    "## INSERT"
   ]
  },
  {
   "cell_type": "code",
   "execution_count": null,
   "metadata": {},
   "outputs": [],
   "source": [
    "# 기존 테이블 데이터 백업\n",
    "cursor.execute(\"SELECT * FROM Customers\")\n",
    "rows = cursor.fetchall()\n",
    "\n",
    "# 기존 테이블 구조 확인\n",
    "cursor.execute(\"PRAGMA table_info(Customers);\")\n",
    "columns = cursor.fetchall()\n",
    "print(\"Existing Customers table columns:\")\n",
    "for column in columns:\n",
    "    print(column)\n",
    "\n",
    "print(\"\\nExisting Customers table data:\")\n",
    "for row in rows:\n",
    "    print(row)"
   ]
  },
  {
   "cell_type": "code",
   "execution_count": 123,
   "metadata": {},
   "outputs": [],
   "source": [
    "cursor.execute(\"\"\"\n",
    "    CREATE TABLE IF NOT EXISTS Customers_new (\n",
    "        CustomerID INTEGER PRIMARY KEY AUTOINCREMENT,\n",
    "        CustomerName TEXT NOT NULL,\n",
    "        ContactName TEXT,\n",
    "        Address TEXT,\n",
    "        City TEXT,\n",
    "        PostalCode TEXT,\n",
    "        Country TEXT\n",
    "    )\n",
    "\"\"\")\n",
    "conn.commit()"
   ]
  },
  {
   "cell_type": "code",
   "execution_count": 124,
   "metadata": {},
   "outputs": [],
   "source": [
    "for row in rows:\n",
    "    cursor.execute(\"\"\"\n",
    "        INSERT INTO Customers_new (CustomerID, CustomerName, ContactName, Address, City, PostalCode, Country)\n",
    "        VALUES (?, ?, ?, ?, ?, ?, ?)\n",
    "    \"\"\", (int(row[0]), row[1], row[2], row[3], row[4], row[5], row[6])\n",
    "    )\n",
    "conn.commit()"
   ]
  },
  {
   "cell_type": "code",
   "execution_count": 125,
   "metadata": {},
   "outputs": [],
   "source": [
    "cursor.execute(\"DROP TABLE Customers\")\n",
    "conn.commit()"
   ]
  },
  {
   "cell_type": "code",
   "execution_count": 126,
   "metadata": {},
   "outputs": [],
   "source": [
    "cursor.execute(\"ALTER TABLE Customers_new RENAME TO Customers\")\n",
    "conn.commit()"
   ]
  },
  {
   "cell_type": "code",
   "execution_count": 127,
   "metadata": {},
   "outputs": [
    {
     "name": "stdout",
     "output_type": "stream",
     "text": [
      "(92, 'Cardinal', 'Tom B. Erichsen', 'Skagen 21', 'Stavanger', '4006', 'Norway')\n"
     ]
    }
   ],
   "source": [
    "cursor.execute(\"\"\"\n",
    "    INSERT INTO Customers (CustomerName, ContactName, Address, City, PostalCode, Country)\n",
    "    VALUES ('Cardinal', 'Tom B. Erichsen', 'Skagen 21', 'Stavanger', '4006', 'Norway');\n",
    "\"\"\")\n",
    "\n",
    "query(cursor, \"SELECT * FROM Customers WHERE CustomerName='Cardinal';\")"
   ]
  },
  {
   "cell_type": "code",
   "execution_count": 130,
   "metadata": {},
   "outputs": [
    {
     "name": "stdout",
     "output_type": "stream",
     "text": [
      "(96, 'Tasty Tee', 'Finn Egan', 'Streetroad 19B', 'Liverpool', 'L1 0AA', 'UK')\n",
      "(95, 'Greasy Burger', 'Per Olsen', 'Gateveien 15', 'Sandnes', '4306', 'Norway')\n",
      "(94, 'Tasty Tee', 'Finn Egan', 'Streetroad 19B', 'Liverpool', 'L1 0AA', 'UK')\n"
     ]
    }
   ],
   "source": [
    "cursor.execute(\"\"\"\n",
    "    INSERT INTO Customers (CustomerName, ContactName, Address, City, PostalCode, Country)\n",
    "    VALUES\n",
    "    ('Greasy Burger', 'Per Olsen', 'Gateveien 15', 'Sandnes', '4306', 'Norway'),\n",
    "    ('Tasty Tee', 'Finn Egan', 'Streetroad 19B', 'Liverpool', 'L1 0AA', 'UK');            \n",
    "\"\"\")\n",
    "\n",
    "query(cursor, \"SELECT * FROM Customers ORDER BY CustomerID DESC LIMIT 3;\")"
   ]
  },
  {
   "cell_type": "code",
   "execution_count": 133,
   "metadata": {},
   "outputs": [],
   "source": [
    "# NULL값은 말그대로 데이터가 존재하지 않는 상태를 의미하며, 비교/동등 연산자를 통해 쿼리할 수 없음.\n",
    "# IS NULL, IS NOT NULL을 통해 NULL값을 쿼리할 수 있음.\n",
    "\n",
    "query(\n",
    "    cursor,\n",
    "    \"\"\"\n",
    "    SELECT CustomerName, ContactName, Address \n",
    "    FROM Customers\n",
    "    WHERE Address IS NULL;\n",
    "    \"\"\"\n",
    ")\n"
   ]
  },
  {
   "cell_type": "markdown",
   "metadata": {},
   "source": [
    "## Update"
   ]
  },
  {
   "cell_type": "code",
   "execution_count": 5,
   "metadata": {},
   "outputs": [],
   "source": [
    "query(\n",
    "    cursor,\n",
    "    \"\"\"\n",
    "    UPDATE Customers\n",
    "    SET ContactName='Alfred Schmidt', City='Frankfurt'\n",
    "    WHERE CustomerID=1;\n",
    "    \"\"\"\n",
    ")"
   ]
  },
  {
   "cell_type": "code",
   "execution_count": 6,
   "metadata": {},
   "outputs": [],
   "source": [
    "# Update에서 Where 절을 작성하지 않으면 모든 행이 업데이트 된다는 것을 주의해야 함.\n",
    "\n",
    "query(\n",
    "    cursor,\n",
    "    \"\"\"\n",
    "    UPDATE Customers\n",
    "    SET ContactName='Juan'\n",
    "    WHERE Country='Mexico';\n",
    "    \"\"\"\n",
    ")"
   ]
  },
  {
   "cell_type": "markdown",
   "metadata": {},
   "source": [
    "## Delete"
   ]
  },
  {
   "cell_type": "code",
   "execution_count": 7,
   "metadata": {},
   "outputs": [],
   "source": [
    "# Delete에서 Where 절을 작성하지 않으면 모든 행이 삭제된다는 것을 주의해야 함.\n",
    "# Drop Table은 테이블 자체를 삭제하는 것이므로 주의해야 함. (둘이 다름)\n",
    "\n",
    "query(\n",
    "    cursor,\n",
    "    \"\"\"\n",
    "    DELETE FROM Customers\n",
    "    Where CustomerName='Alfreds Futterkiste';\n",
    "    \"\"\"\n",
    ")"
   ]
  },
  {
   "cell_type": "code",
   "execution_count": 14,
   "metadata": {},
   "outputs": [
    {
     "name": "stdout",
     "output_type": "stream",
     "text": [
      "(2, 'Ana Trujillo Emparedados y helados', 'Juan', 'Avda. de la Constitución 2222', 'México D.F.', '05021', 'Mexico')\n",
      "(3, 'Antonio Moreno Taquería', 'Juan', 'Mataderos 2312', 'México D.F.', '05023', 'Mexico')\n",
      "(4, 'Around the Horn', 'Thomas Hardy', '120 Hanover Sq.', 'London', 'WA1 1DP', 'UK')\n"
     ]
    }
   ],
   "source": [
    "query(\n",
    "    cursor,\n",
    "    \"\"\"\n",
    "    SELECT * FROM Customers LIMIT 3;\n",
    "    \"\"\"\n",
    ")\n",
    "\n",
    "print()\n",
    "query(\n",
    "    cursor,\n",
    "    \"\"\"\n",
    "    SELECT * FROM Customers \n",
    "    FETCH FIRST 3 ROWS ONLY;\n",
    "    \"\"\"\n",
    ")"
   ]
  },
  {
   "cell_type": "code",
   "execution_count": null,
   "metadata": {},
   "outputs": [],
   "source": []
  }
 ],
 "metadata": {
  "kernelspec": {
   "display_name": "Python 3",
   "language": "python",
   "name": "python3"
  },
  "language_info": {
   "codemirror_mode": {
    "name": "ipython",
    "version": 3
   },
   "file_extension": ".py",
   "mimetype": "text/x-python",
   "name": "python",
   "nbconvert_exporter": "python",
   "pygments_lexer": "ipython3",
   "version": "3.10.14"
  }
 },
 "nbformat": 4,
 "nbformat_minor": 2
}
