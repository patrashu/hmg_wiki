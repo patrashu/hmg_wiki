{
 "cells": [
  {
   "cell_type": "markdown",
   "id": "5ed20cf7-0a3b-4a00-bb57-a819c3952737",
   "metadata": {},
   "source": [
    "## Import Library"
   ]
  },
  {
   "cell_type": "code",
   "execution_count": 1,
   "id": "1241ae04-7cd6-4b5d-a19e-e8eaea6acce9",
   "metadata": {},
   "outputs": [
    {
     "name": "stdout",
     "output_type": "stream",
     "text": [
      "Requirement already satisfied: findspark in /usr/local/lib/python3.10/site-packages (2.0.1)\n",
      "\u001b[33mWARNING: Running pip as the 'root' user can result in broken permissions and conflicting behaviour with the system package manager. It is recommended to use a virtual environment instead: https://pip.pypa.io/warnings/venv\u001b[0m\u001b[33m\n",
      "\u001b[0m\n",
      "\u001b[1m[\u001b[0m\u001b[34;49mnotice\u001b[0m\u001b[1;39;49m]\u001b[0m\u001b[39;49m A new release of pip is available: \u001b[0m\u001b[31;49m23.0.1\u001b[0m\u001b[39;49m -> \u001b[0m\u001b[32;49m24.2\u001b[0m\n",
      "\u001b[1m[\u001b[0m\u001b[34;49mnotice\u001b[0m\u001b[1;39;49m]\u001b[0m\u001b[39;49m To update, run: \u001b[0m\u001b[32;49mpip install --upgrade pip\u001b[0m\n"
     ]
    }
   ],
   "source": [
    "!pip install findspark"
   ]
  },
  {
   "cell_type": "code",
   "execution_count": 2,
   "id": "c166ee2c-2cbe-4e77-ab50-19f070acb6b2",
   "metadata": {},
   "outputs": [],
   "source": [
    "import findspark\n",
    "findspark.init()"
   ]
  },
  {
   "cell_type": "code",
   "execution_count": 3,
   "id": "14e82a99-898e-485b-8e8f-6f0c0c2f8f7e",
   "metadata": {},
   "outputs": [],
   "source": [
    "from argparse import ArgumentParser\n",
    "from pyspark import SparkConf, SparkContext\n",
    "from pyspark.sql import SparkSession\n",
    "import pyspark.sql.functions as F\n",
    "from pyspark.sql.window import Window\n",
    "\n",
    "from datetime import datetime\n",
    "import sys"
   ]
  },
  {
   "cell_type": "markdown",
   "id": "dcf61052-88d7-48c3-bf73-ad3a97b7f46d",
   "metadata": {},
   "source": [
    "## Define Functions"
   ]
  },
  {
   "cell_type": "code",
   "execution_count": 4,
   "id": "eb0a7b3d-9b36-4c06-9b7d-14ef42d39a42",
   "metadata": {},
   "outputs": [],
   "source": [
    "def merge_data(spark: SparkSession, output_dir: str, start_date: str, end_date: str):\n",
    "    sy, sm = start_date.split('-')\n",
    "    ey, em = end_date.split('-')\n",
    "    tmp_df = []\n",
    "    for year in range(int(sy), int(ey)+1):\n",
    "        for month in range(1, 13):\n",
    "            if year == int(sy) and month < int(sm):\n",
    "                continue\n",
    "            if year == int(ey) and month > int(em):\n",
    "                continue\n",
    "            file_path = f'{output_dir}/fhvhv_tripdata_{year}-{str(month).zfill(2)}.parquet'\n",
    "            tmp_df.append(spark.read.parquet(file_path))\n",
    "\n",
    "    if len(tmp_df) == 1:\n",
    "        return tmp_df[0]\n",
    "    else:\n",
    "        tmp = tmp_df[0]\n",
    "        for idx in range(1, len(tmp_df)):\n",
    "            tmp = tmp.union(tmp_df[idx])\n",
    "        return tmp"
   ]
  },
  {
   "cell_type": "markdown",
   "id": "2afb44e0-3b10-41f2-a7b6-63d57615f942",
   "metadata": {},
   "source": [
    "## Run SparkSession"
   ]
  },
  {
   "cell_type": "code",
   "execution_count": 5,
   "id": "d110557f-d185-42af-b4bf-58417a72be35",
   "metadata": {},
   "outputs": [
    {
     "name": "stderr",
     "output_type": "stream",
     "text": [
      "Setting default log level to \"WARN\".\n",
      "To adjust logging level use sc.setLogLevel(newLevel). For SparkR, use setLogLevel(newLevel).\n",
      "24/08/04 04:26:50 WARN NativeCodeLoader: Unable to load native-hadoop library for your platform... using builtin-java classes where applicable\n"
     ]
    }
   ],
   "source": [
    "conf = SparkConf() \\\n",
    "    .setAppName(\"NYC Taxi Data Analysis\") \\\n",
    "    .setMaster(\"spark://spark-master:7077\") \\\n",
    "    .set(\"spark.executor.memory\", \"20g\")\n",
    "\n",
    "sc = SparkContext(conf=conf)\n",
    "spark = SparkSession(sc)"
   ]
  },
  {
   "cell_type": "code",
   "execution_count": 6,
   "id": "0f8f66a7-312e-41aa-8cb5-8223f1337a65",
   "metadata": {},
   "outputs": [],
   "source": [
    "output_dir = \"hdfs://spark-master:9000/data\"\n",
    "result_dir = \"hdfs://spark-master:9000/result\"\n",
    "start_date = \"2023-01\"\n",
    "end_date = \"2023-01\""
   ]
  },
  {
   "cell_type": "code",
   "execution_count": 7,
   "id": "a85d26fe-ad4f-4f0f-b999-36518b79fe76",
   "metadata": {},
   "outputs": [
    {
     "name": "stderr",
     "output_type": "stream",
     "text": [
      "                                                                                \r"
     ]
    }
   ],
   "source": [
    "# load dataframe from hdfs\n",
    "df = merge_data(spark, output_dir, start_date, end_date)"
   ]
  },
  {
   "cell_type": "code",
   "execution_count": 8,
   "id": "0add8ab4-66dd-41f1-a651-9cc7422a0301",
   "metadata": {},
   "outputs": [],
   "source": [
    "# extract cols\n",
    "df = df.select(df.pickup_datetime, df.trip_miles, df.base_passenger_fare)"
   ]
  },
  {
   "cell_type": "code",
   "execution_count": 9,
   "id": "c149dade-6504-4e4e-9e33-d17a10b0771e",
   "metadata": {},
   "outputs": [],
   "source": [
    "# remove nan values\n",
    "df = df.dropna(subset=[\"pickup_datetime\", \"trip_miles\", \"base_passenger_fare\"])"
   ]
  },
  {
   "cell_type": "code",
   "execution_count": 10,
   "id": "1fd89c3a-d2f0-4af5-8a98-51965d450f08",
   "metadata": {},
   "outputs": [],
   "source": [
    "# remove invalid values\n",
    "df = df.filter((df.trip_miles > 0) & (df.base_passenger_fare > 0))"
   ]
  },
  {
   "cell_type": "code",
   "execution_count": 11,
   "id": "bc037aa5-b93b-4e4b-82a0-05760b400c37",
   "metadata": {},
   "outputs": [
    {
     "data": {
      "text/plain": [
       "DataFrame[pickup_datetime: timestamp_ntz, trip_miles: double, base_passenger_fare: double]"
      ]
     },
     "execution_count": 11,
     "metadata": {},
     "output_type": "execute_result"
    }
   ],
   "source": [
    "df.cache()"
   ]
  },
  {
   "cell_type": "code",
   "execution_count": 12,
   "id": "8fd56117-f2bb-4a77-b3f9-2b3fe54cbf95",
   "metadata": {
    "scrolled": true
   },
   "outputs": [
    {
     "name": "stderr",
     "output_type": "stream",
     "text": [
      "[Stage 3:======================================================>  (19 + 1) / 20]\r"
     ]
    },
    {
     "name": "stdout",
     "output_type": "stream",
     "text": [
      "+-------------------+----------+-------------------+\n",
      "|    pickup_datetime|trip_miles|base_passenger_fare|\n",
      "+-------------------+----------+-------------------+\n",
      "|2023-01-01 00:44:46|     51.23|             167.74|\n",
      "|2023-01-01 00:16:59|     52.71|             146.72|\n",
      "|2023-01-01 00:19:43|    57.256|             135.21|\n",
      "|2023-01-01 00:26:12|     82.85|             247.89|\n",
      "|2023-01-01 00:52:31|     50.46|             441.36|\n",
      "+-------------------+----------+-------------------+\n",
      "only showing top 5 rows\n",
      "\n"
     ]
    },
    {
     "name": "stderr",
     "output_type": "stream",
     "text": [
      "                                                                                \r"
     ]
    }
   ],
   "source": [
    "# filtering trip_miles upper than 30 miles\n",
    "filtered_df = df.filter(df.trip_miles > 50)\n",
    "filtered_df.show(5)"
   ]
  },
  {
   "cell_type": "code",
   "execution_count": 13,
   "id": "75de6192-48e1-4c86-ac62-a0f35ff1ba5d",
   "metadata": {},
   "outputs": [
    {
     "name": "stderr",
     "output_type": "stream",
     "text": [
      "[Stage 4:===============================================>         (25 + 0) / 30]\r"
     ]
    },
    {
     "name": "stdout",
     "output_type": "stream",
     "text": [
      "18462090\n"
     ]
    },
    {
     "name": "stderr",
     "output_type": "stream",
     "text": [
      "                                                                                \r"
     ]
    }
   ],
   "source": [
    "# count total numter of trips\n",
    "print(df.count())"
   ]
  },
  {
   "cell_type": "code",
   "execution_count": 14,
   "id": "15ec9eed-a545-4a15-93e3-86fc31b4f267",
   "metadata": {},
   "outputs": [
    {
     "name": "stdout",
     "output_type": "stream",
     "text": [
      "4.8704881980318335\n"
     ]
    }
   ],
   "source": [
    "# calculate average trip distance\n",
    "print(df.agg(F.avg(F.col(\"trip_miles\"))).collect()[0][0])"
   ]
  },
  {
   "cell_type": "code",
   "execution_count": 15,
   "id": "69f5854f-08e4-4449-8666-e55bcb8eb6ef",
   "metadata": {},
   "outputs": [
    {
     "name": "stdout",
     "output_type": "stream",
     "text": [
      "398359394.00305015\n"
     ]
    }
   ],
   "source": [
    "print(df.agg(F.sum(F.col(\"base_passenger_fare\"))).collect()[0][0])"
   ]
  },
  {
   "cell_type": "markdown",
   "id": "f8340c98",
   "metadata": {},
   "source": [
    "### Preprocess Weather dataframe"
   ]
  },
  {
   "cell_type": "code",
   "execution_count": 16,
   "id": "56067425-9628-482d-acd6-6f1db87912d2",
   "metadata": {},
   "outputs": [],
   "source": [
    "# load weather csv\n",
    "weather_df = spark.read.csv(output_dir+\"/2023_weather.csv\")"
   ]
  },
  {
   "cell_type": "code",
   "execution_count": 17,
   "id": "84b8b772-2d12-44de-b261-31bb9ec1a861",
   "metadata": {},
   "outputs": [
    {
     "name": "stderr",
     "output_type": "stream",
     "text": [
      "24/08/04 04:27:10 WARN package: Truncated the string representation of a plan since it was too large. This behavior can be adjusted by setting 'spark.sql.debug.maxToStringFields'.\n"
     ]
    }
   ],
   "source": [
    "# remove first row\n",
    "first_row = weather_df.first()\n",
    "columns = [str(cell) for cell in first_row]\n",
    "\n",
    "weather_df = weather_df.filter(weather_df['_c0'] != first_row[0])\n",
    "weather_df = weather_df.toDF(*columns)"
   ]
  },
  {
   "cell_type": "code",
   "execution_count": 18,
   "id": "ce18145e-d0de-4b6a-b124-fb7cadd422e6",
   "metadata": {},
   "outputs": [],
   "source": [
    "not_use_cols = ['NAME', 'REPORT_TYPE', 'CALL_SIGN', 'QUALITY_CONTROL', 'CIG', 'VIS', 'DEW', 'SLP', 'AA2', 'AA3', 'AB1', 'AD1', 'AE1', 'AH1', 'AH2', 'AH3', \n",
    "                'AH4', 'AH5', 'AH6', 'AI1', 'AI2', 'AI3', 'AI4', 'AI5', 'AI6', 'AJ1', 'AK1', 'AL1', 'AM1', 'AN1', 'AT1', 'AT2', 'AT3', 'AT4', 'AT5', 'AU1',\n",
    "                'AU2', 'AW1', 'AW2', 'AW3', 'AX1', 'AX2', 'AX3', 'AX4', 'GA1', 'GA2', 'GA3', 'GD1', 'GD2', 'GD3', 'GE1', 'GF1', 'KA1', 'KA2', 'KB1', 'KB2',\n",
    "                'KB3', 'KC1', 'KC2', 'KD1', 'KD2', 'KE1', 'KG1', 'KG2', 'MA1', 'MD1', 'MF1', 'MG1', 'MH1', 'MK1', 'MW1', 'OC1', 'OD1', 'OE1', 'OE2', 'OE3',\n",
    "                'RH1', 'RH2', 'RH3', 'WA1', 'REM', 'EQD', 'SOURCE', 'LATITUDE', 'LONGITUDE', 'ELEVATION']"
   ]
  },
  {
   "cell_type": "code",
   "execution_count": 19,
   "id": "b8ef5271-8215-49a6-b930-5919117f636b",
   "metadata": {},
   "outputs": [],
   "source": [
    "weather_df = weather_df.drop(*not_use_cols)"
   ]
  },
  {
   "cell_type": "code",
   "execution_count": 20,
   "id": "af7fbe91-8edf-47a9-9748-3545c0c1c557",
   "metadata": {},
   "outputs": [
    {
     "name": "stdout",
     "output_type": "stream",
     "text": [
      "+-----------+-------------------+--------------+-------+-----------+\n",
      "|    STATION|               DATE|           WND|    TMP|        AA1|\n",
      "+-----------+-------------------+--------------+-------+-----------+\n",
      "|72505394728|2023-01-01T00:06:00|999,9,C,0000,5|+0100,5|01,0000,2,1|\n",
      "|72505394728|2023-01-01T00:18:00|030,5,N,0015,5|+0100,5|01,0000,2,1|\n",
      "|72505394728|2023-01-01T00:31:00|999,9,C,0000,5|+0100,5|01,0002,3,1|\n",
      "|72505394728|2023-01-01T00:44:00|999,9,C,0000,5|+0100,5|01,0005,3,1|\n",
      "|72505394728|2023-01-01T00:49:00|999,9,C,0000,5|+0100,5|       null|\n",
      "+-----------+-------------------+--------------+-------+-----------+\n",
      "only showing top 5 rows\n",
      "\n"
     ]
    }
   ],
   "source": [
    "weather_df.show(5)"
   ]
  },
  {
   "cell_type": "code",
   "execution_count": 21,
   "id": "91d5c9ac-7896-4d49-8247-4c2cce2c4201",
   "metadata": {},
   "outputs": [],
   "source": [
    "# TMP / WND 전처리\n",
    "weather_df = weather_df.withColumn('Temperature(C)', F.regexp_extract('TMP', r'(\\+|-)?\\d{4}', 0).cast('int') / 10) # 섭씨 온도\n",
    "weather_df = weather_df.withColumn('Wind_Power(m/s)', F.regexp_extract('WND', r'\\d{3},\\d,[A-Z],(\\d{4})', 1).cast('int') / 10) # 풍속"
   ]
  },
  {
   "cell_type": "code",
   "execution_count": 22,
   "id": "511c2b23-3225-45c6-ad4b-d09d50801c35",
   "metadata": {},
   "outputs": [],
   "source": [
    "# UTC => 실제 뉴욕 시간으로 변경\n",
    "weather_df = weather_df.withColumn('DATE', F.col('DATE').cast('timestamp'))"
   ]
  },
  {
   "cell_type": "code",
   "execution_count": 23,
   "id": "9c6aa9d6-d21b-4686-81be-2b550cfb8963",
   "metadata": {},
   "outputs": [],
   "source": [
    "# 강수량 전처리\n",
    "weather_df = weather_df.withColumn('RAIN_PER_HOUR', F.regexp_extract('AA1', r'\\d{2},(\\d{4})', 1).cast('int') / 10) # 강수량"
   ]
  },
  {
   "cell_type": "code",
   "execution_count": 24,
   "id": "d70698c1-99b6-4e29-a819-2b0ade9431ea",
   "metadata": {},
   "outputs": [],
   "source": [
    "# 일별 시간대 컬럼 추가\n",
    "weather_df = weather_df.withColumn('DAY', F.dayofmonth(F.col('DATE')))\n",
    "weather_df = weather_df.withColumn('HOUR', F.hour(F.col('DATE')))\n",
    "weather_df = weather_df.withColumn('MONTH', F.month(F.col('DATE'))) \n",
    "weather_df = weather_df.withColumn('Year', F.year(F.col('DATE')))"
   ]
  },
  {
   "cell_type": "code",
   "execution_count": 25,
   "id": "7f6e285a-ea6c-435c-a93e-79b914330f69",
   "metadata": {},
   "outputs": [
    {
     "name": "stdout",
     "output_type": "stream",
     "text": [
      "Before count: 11842\n",
      "After count: 11824\n"
     ]
    }
   ],
   "source": [
    "# DATE가 동일한 컬럼 제거\n",
    "print(\"Before count:\", weather_df.count())\n",
    "weather_df = weather_df.dropDuplicates(['DATE'])\n",
    "print(\"After count:\", weather_df.count())"
   ]
  },
  {
   "cell_type": "code",
   "execution_count": 26,
   "id": "631db865-dbe9-4d22-81f0-f38de2049840",
   "metadata": {},
   "outputs": [],
   "source": [
    "# temperature 결측치 처리\n",
    "weather_df = weather_df.withColumn('Temperature(C)', F.when(F.col('Temperature(C)') == 999.9, None).otherwise(F.col('Temperature(C)')))\n",
    "window_spec = Window.partitionBy('STATION').orderBy('DATE').rowsBetween(-3, 3)\n",
    "weather_df = weather_df.withColumn('Temperature(C)', F.when(F.col('Temperature(C)').isNull(), F.avg('Temperature(C)').over(window_spec)).otherwise(F.col('Temperature(C)')))"
   ]
  },
  {
   "cell_type": "code",
   "execution_count": 27,
   "id": "8df9e0c2-57b2-4103-a96e-b49711c626b0",
   "metadata": {},
   "outputs": [],
   "source": [
    "# wind_power 결측치 처리\n",
    "weather_df = weather_df.withColumn('Wind_Power(m/s)', F.when(F.col('Wind_Power(m/s)') == 999.9, None).otherwise(F.col('Wind_Power(m/s)')))\n",
    "window_spec = Window.partitionBy('STATION').orderBy('DATE').rowsBetween(-3, 3)\n",
    "weather_df = weather_df.withColumn('Wind_Power(m/s)', F.when(F.col('Wind_Power(m/s)').isNull(), F.avg('Wind_Power(m/s)').over(window_spec)).otherwise(F.col('Wind_Power(m/s)')))"
   ]
  },
  {
   "cell_type": "code",
   "execution_count": 28,
   "id": "92e2fac6-6c0c-4ed4-9fa9-9ed9885098af",
   "metadata": {},
   "outputs": [],
   "source": [
    "# RAIN_PER_HOUR\n",
    "weather_df = weather_df.withColumn('RAIN_PER_HOUR', F.when(F.col('RAIN_PER_HOUR') == 999.9, None).otherwise(F.col('RAIN_PER_HOUR')))\n",
    "window_spec = Window.partitionBy('STATION').orderBy('DATE').rowsBetween(-3, 3)\n",
    "weather_df = weather_df.withColumn('RAIN_PER_HOUR', F.when(F.col('RAIN_PER_HOUR').isNull(), F.avg('RAIN_PER_HOUR').over(window_spec)).otherwise(F.col('RAIN_PER_HOUR')))"
   ]
  },
  {
   "cell_type": "code",
   "execution_count": 29,
   "id": "7c667995-e400-4620-8b84-e0bb1b100e18",
   "metadata": {},
   "outputs": [],
   "source": [
    "# aggregation by Hour\n",
    "weather_avg_df = weather_df.groupBy('Year', 'Month', 'Day', 'Hour').agg(\n",
    "    F.round(F.avg('Temperature(C)'), 2).alias('Avg_temp(C)'),\n",
    "    F.round(F.avg('Wind_Power(m/s)'), 2).alias('Avg_wind_power(m/s)'),\n",
    "    F.round(F.avg('RAIN_PER_HOUR'), 2).alias('Avg_rain_per_hour(mm)')\n",
    ").orderBy('Year', 'Month', 'Day', 'Hour')"
   ]
  },
  {
   "cell_type": "markdown",
   "id": "d35371fc",
   "metadata": {},
   "source": [
    "### Merge Two Dataframes"
   ]
  },
  {
   "cell_type": "code",
   "execution_count": 30,
   "id": "7cfa9a66-26fe-429f-8969-e88724a32786",
   "metadata": {},
   "outputs": [],
   "source": [
    "# add cols\n",
    "df = df.withColumn('dfYear', F.year(F.col('pickup_datetime')))\n",
    "df = df.withColumn('dfMonth', F.month(F.col('pickup_datetime')))\n",
    "df = df.withColumn('dfDay', F.dayofmonth(F.col('pickup_datetime')))\n",
    "df = df.withColumn('dfHour', F.hour(F.col('pickup_datetime')))"
   ]
  },
  {
   "cell_type": "code",
   "execution_count": 31,
   "id": "3d120642-8110-4c60-ba88-a636aba482c5",
   "metadata": {},
   "outputs": [],
   "source": [
    "joined_df = df.join(weather_avg_df, (df.dfYear==weather_avg_df.Year) & (df.dfMonth==weather_avg_df.Month) & (df.dfDay==weather_avg_df.Day) & (df.dfHour==weather_avg_df.Hour), how='left')"
   ]
  },
  {
   "cell_type": "code",
   "execution_count": 32,
   "id": "adea9395-f83f-47bc-b519-d470760e0d51",
   "metadata": {},
   "outputs": [
    {
     "name": "stdout",
     "output_type": "stream",
     "text": [
      "+-------------------+----------+-------------------+------+-------+-----+------+----+-----+---+----+-----------+-------------------+---------------------+\n",
      "|    pickup_datetime|trip_miles|base_passenger_fare|dfYear|dfMonth|dfDay|dfHour|Year|Month|Day|Hour|Avg_temp(C)|Avg_wind_power(m/s)|Avg_rain_per_hour(mm)|\n",
      "+-------------------+----------+-------------------+------+-------+-----+------+----+-----+---+----+-----------+-------------------+---------------------+\n",
      "|2023-01-01 00:19:38|      0.94|              25.95|  2023|      1|    1|     0|2023|    1|  1|   0|       10.0|               0.25|                 0.32|\n",
      "|2023-01-01 00:58:39|      2.78|              60.14|  2023|      1|    1|     0|2023|    1|  1|   0|       10.0|               0.25|                 0.32|\n",
      "|2023-01-01 00:20:27|      8.81|              24.37|  2023|      1|    1|     0|2023|    1|  1|   0|       10.0|               0.25|                 0.32|\n",
      "|2023-01-01 00:41:05|      0.67|               13.8|  2023|      1|    1|     0|2023|    1|  1|   0|       10.0|               0.25|                 0.32|\n",
      "|2023-01-01 00:52:47|      4.38|              20.49|  2023|      1|    1|     0|2023|    1|  1|   0|       10.0|               0.25|                 0.32|\n",
      "+-------------------+----------+-------------------+------+-------+-----+------+----+-----+---+----+-----------+-------------------+---------------------+\n",
      "only showing top 5 rows\n",
      "\n"
     ]
    }
   ],
   "source": [
    "joined_df.show(5)"
   ]
  },
  {
   "cell_type": "code",
   "execution_count": 33,
   "id": "33a868db-beef-4f4e-aa38-01c825c4a7ba",
   "metadata": {},
   "outputs": [],
   "source": [
    "joined_df = joined_df.select(F.col(\"pickup_datetime\"), F.col(\"trip_miles\"), F.col(\"base_passenger_fare\"), F.col(\"Year\"), F.col(\"Month\"), F.col(\"Day\"), F.col(\"Hour\"), F.col(\"Avg_wind_power(m/s)\"), F.col(\"Avg_rain_per_hour(mm)\"), F.col(\"Avg_temp(C)\"))"
   ]
  },
  {
   "cell_type": "markdown",
   "id": "5197a723",
   "metadata": {},
   "source": [
    "### Extract sample data and save to hdfs"
   ]
  },
  {
   "cell_type": "code",
   "execution_count": 34,
   "id": "bb370854-c91c-4b74-8391-f2ca44ee9059",
   "metadata": {},
   "outputs": [
    {
     "name": "stdout",
     "output_type": "stream",
     "text": [
      "Sample Data:\n",
      "Row(pickup_datetime=datetime.datetime(2023, 1, 1, 0, 19, 38), trip_miles=0.94, base_passenger_fare=25.95, Year=2023, Month=1, Day=1, Hour=0, Avg_wind_power(m/s)=0.25, Avg_rain_per_hour(mm)=0.32, Avg_temp(C)=10.0)\n",
      "Row(pickup_datetime=datetime.datetime(2023, 1, 1, 0, 58, 39), trip_miles=2.78, base_passenger_fare=60.14, Year=2023, Month=1, Day=1, Hour=0, Avg_wind_power(m/s)=0.25, Avg_rain_per_hour(mm)=0.32, Avg_temp(C)=10.0)\n",
      "Row(pickup_datetime=datetime.datetime(2023, 1, 1, 0, 20, 27), trip_miles=8.81, base_passenger_fare=24.37, Year=2023, Month=1, Day=1, Hour=0, Avg_wind_power(m/s)=0.25, Avg_rain_per_hour(mm)=0.32, Avg_temp(C)=10.0)\n",
      "Row(pickup_datetime=datetime.datetime(2023, 1, 1, 0, 41, 5), trip_miles=0.67, base_passenger_fare=13.8, Year=2023, Month=1, Day=1, Hour=0, Avg_wind_power(m/s)=0.25, Avg_rain_per_hour(mm)=0.32, Avg_temp(C)=10.0)\n",
      "Row(pickup_datetime=datetime.datetime(2023, 1, 1, 0, 52, 47), trip_miles=4.38, base_passenger_fare=20.49, Year=2023, Month=1, Day=1, Hour=0, Avg_wind_power(m/s)=0.25, Avg_rain_per_hour(mm)=0.32, Avg_temp(C)=10.0)\n",
      "Row(pickup_datetime=datetime.datetime(2023, 1, 1, 0, 29, 5), trip_miles=4.921, base_passenger_fare=18.29, Year=2023, Month=1, Day=1, Hour=0, Avg_wind_power(m/s)=0.25, Avg_rain_per_hour(mm)=0.32, Avg_temp(C)=10.0)\n",
      "Row(pickup_datetime=datetime.datetime(2023, 1, 1, 0, 55, 29), trip_miles=5.517, base_passenger_fare=25.76, Year=2023, Month=1, Day=1, Hour=0, Avg_wind_power(m/s)=0.25, Avg_rain_per_hour(mm)=0.32, Avg_temp(C)=10.0)\n",
      "Row(pickup_datetime=datetime.datetime(2023, 1, 1, 0, 10, 29), trip_miles=1.89, base_passenger_fare=14.51, Year=2023, Month=1, Day=1, Hour=0, Avg_wind_power(m/s)=0.25, Avg_rain_per_hour(mm)=0.32, Avg_temp(C)=10.0)\n",
      "Row(pickup_datetime=datetime.datetime(2023, 1, 1, 0, 22, 10), trip_miles=2.65, base_passenger_fare=13.0, Year=2023, Month=1, Day=1, Hour=0, Avg_wind_power(m/s)=0.25, Avg_rain_per_hour(mm)=0.32, Avg_temp(C)=10.0)\n",
      "Row(pickup_datetime=datetime.datetime(2023, 1, 1, 0, 39, 9), trip_miles=3.26, base_passenger_fare=30.38, Year=2023, Month=1, Day=1, Hour=0, Avg_wind_power(m/s)=0.25, Avg_rain_per_hour(mm)=0.32, Avg_temp(C)=10.0)\n"
     ]
    }
   ],
   "source": [
    "# extract sample\n",
    "sample_data = joined_df.limit(10).collect()\n",
    "print(\"Sample Data:\")\n",
    "for row in sample_data:\n",
    "    print(row)"
   ]
  },
  {
   "cell_type": "code",
   "execution_count": 155,
   "id": "90da970a-b61a-489b-b9d3-08be8cd94268",
   "metadata": {},
   "outputs": [
    {
     "name": "stderr",
     "output_type": "stream",
     "text": [
      "                                                                                \r"
     ]
    }
   ],
   "source": [
    "# save to hdfs\n",
    "joined_df = joined_df.coalesce(1)\n",
    "joined_df.write.mode(\"overwrite\").parquet(result_dir+\"/joined_df\")"
   ]
  }
 ],
 "metadata": {
  "kernelspec": {
   "display_name": "Python 3 (ipykernel)",
   "language": "python",
   "name": "python3"
  },
  "language_info": {
   "codemirror_mode": {
    "name": "ipython",
    "version": 3
   },
   "file_extension": ".py",
   "mimetype": "text/x-python",
   "name": "python",
   "nbconvert_exporter": "python",
   "pygments_lexer": "ipython3",
   "version": "3.10.14"
  }
 },
 "nbformat": 4,
 "nbformat_minor": 5
}
