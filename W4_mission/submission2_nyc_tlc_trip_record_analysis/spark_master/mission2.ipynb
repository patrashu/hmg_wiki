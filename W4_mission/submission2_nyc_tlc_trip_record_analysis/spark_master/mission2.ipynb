{
 "cells": [
  {
   "cell_type": "markdown",
   "id": "5ed20cf7-0a3b-4a00-bb57-a819c3952737",
   "metadata": {},
   "source": [
    "## Import Library"
   ]
  },
  {
   "cell_type": "code",
   "execution_count": 1,
   "id": "14e82a99-898e-485b-8e8f-6f0c0c2f8f7e",
   "metadata": {},
   "outputs": [],
   "source": [
    "from argparse import ArgumentParser\n",
    "\n",
    "import matplotlib.pyplot as plt\n",
    "import pyspark.sql.functions as F\n",
    "from pyspark.sql import SparkSession\n",
    "from pyspark.sql.window import Window\n",
    "from pyspark.sql.types import NumericType, TimestampNTZType"
   ]
  },
  {
   "cell_type": "markdown",
   "id": "dcf61052-88d7-48c3-bf73-ad3a97b7f46d",
   "metadata": {},
   "source": [
    "## Define Functions"
   ]
  },
  {
   "cell_type": "code",
   "execution_count": 2,
   "id": "eb0a7b3d-9b36-4c06-9b7d-14ef42d39a42",
   "metadata": {},
   "outputs": [],
   "source": [
    "def merge_data(spark: SparkSession, output_dir: str, start_date: str, end_date: str):\n",
    "    sy, sm = start_date.split('-')\n",
    "    ey, em = end_date.split('-')\n",
    "    tmp_df = []\n",
    "    for year in range(int(sy), int(ey)+1):\n",
    "        for month in range(1, 13):\n",
    "            if year == int(sy) and month < int(sm):\n",
    "                continue\n",
    "            if year == int(ey) and month > int(em):\n",
    "                continue\n",
    "            file_path = f'{output_dir}/fhvhv_tripdata_{year}-{str(month).zfill(2)}.parquet'\n",
    "            tmp_df.append(spark.read.parquet(file_path))\n",
    "\n",
    "    if len(tmp_df) == 1:\n",
    "        return tmp_df[0]\n",
    "    return tmp_df[0].union(*tmp_df[1:])"
   ]
  },
  {
   "cell_type": "code",
   "execution_count": 3,
   "id": "e12e3d03-a2dc-4660-b668-85d5bf292430",
   "metadata": {},
   "outputs": [],
   "source": [
    "def remove_missing_values(df):\n",
    "    df = df.na.drop()\n",
    "    return df"
   ]
  },
  {
   "cell_type": "code",
   "execution_count": 4,
   "id": "6cc63a01-b61d-453f-b516-ed0c8c9f5559",
   "metadata": {},
   "outputs": [],
   "source": [
    "def fill_missing_values(df):\n",
    "    # mode_value = df.groupBy(col).count().orderBy($\"count\".desc).first()[0] # spark-shell\n",
    "    for col in df.columns:\n",
    "        try:\n",
    "            mode_value = df.groupBy(col).count().orderBy(\n",
    "                F.col(\"count\").desc()).first()[0]\n",
    "            df = df.na.fill({col: mode_value})\n",
    "        except:\n",
    "            df = df.na.drop(subset=[col])\n",
    "    return df\n"
   ]
  },
  {
   "cell_type": "code",
   "execution_count": 5,
   "id": "45208b4a-91ec-4da3-a53a-121fb19e28a6",
   "metadata": {},
   "outputs": [],
   "source": [
    "def preprocess_msvalue(df, method: str):\n",
    "    if method == 'remove':\n",
    "        return remove_missing_values(df)\n",
    "    elif method == 'fill':\n",
    "        return fill_missing_values(df)\n",
    "    else:\n",
    "        raise ValueError(f\"Unknown method: {method}\")\n"
   ]
  },
  {
   "cell_type": "code",
   "execution_count": 6,
   "id": "5a1a9295-6807-401c-bbe6-430dfb5ae321",
   "metadata": {},
   "outputs": [],
   "source": [
    "def convert_time_to_timestamp(df):\n",
    "    for col_name in df.columns:\n",
    "        dtype = df.schema[col_name].dataType\n",
    "        if isinstance(dtype, TimestampNTZType):\n",
    "            df = df.withColumn(col_name, F.col(col_name).cast('timestamp'))\n",
    "            df = df.withColumn(col_name, F.col(col_name) - F.expr('INTERVAL 4 HOURS'))\n",
    "\n",
    "    return df"
   ]
  },
  {
   "cell_type": "code",
   "execution_count": 7,
   "id": "8215995a-39cf-4e08-aecf-91606e27d8e6",
   "metadata": {},
   "outputs": [],
   "source": [
    "def remove_invalid_values(df):\n",
    "    for col in df.columns:\n",
    "        if isinstance(df.schema[col].dataType, NumericType):\n",
    "            df = df.withColumn(col, F.when(\n",
    "                F.col(col) >= 0, F.col(col)).otherwise(None))\n",
    "            df = df.na.drop(subset=[col])\n",
    "    return df"
   ]
  },
  {
   "cell_type": "code",
   "execution_count": 8,
   "id": "c76d0af7-c8c3-43c2-93db-5d81897e6862",
   "metadata": {},
   "outputs": [],
   "source": [
    "def calculate_trip_avg_duration(df):\n",
    "    avg_trip_time = df.select(F.avg(F.col(\"trip_time\").cast(\n",
    "        \"long\")).alias(\"avg_trip_time\")).collect()[0][0]\n",
    "    # avg_time_df = df.groupBy('trip_time').agg(F.avg('trip_duration').alias('trip_avg_duration'))\n",
    "    return avg_trip_time\n"
   ]
  },
  {
   "cell_type": "code",
   "execution_count": 9,
   "id": "27a75378-4c27-4041-857a-4bbe480ab54a",
   "metadata": {},
   "outputs": [],
   "source": [
    "def calculate_trip_avg_distance(df):\n",
    "    avg_dist_time = df.select(F.avg(F.col(\"trip_miles\").cast(\n",
    "        \"long\")).alias(\"avg_trip_dist\")).collect()[0][0]\n",
    "    return avg_dist_time"
   ]
  },
  {
   "cell_type": "code",
   "execution_count": 10,
   "id": "8f2cecbc-aee7-4b1f-b2b9-d37d60ad61bd",
   "metadata": {},
   "outputs": [],
   "source": [
    "def calculate_peak_hours(df):\n",
    "    df = df.withColumn(\"hour\", F.hour(\"pickup_datetime\"))  # extract hour from timestamp\n",
    "    hourly_trips_df = df.groupBy(\"hour\").count().orderBy(\"hour\")\n",
    "    return hourly_trips_df"
   ]
  },
  {
   "cell_type": "code",
   "execution_count": 11,
   "id": "d1e8570b-2e4b-45bc-bbfa-b14923234ac7",
   "metadata": {},
   "outputs": [],
   "source": [
    "def vis_peak_hours(spark_df):\n",
    "    # Collect the results to a list of rows\n",
    "    results = spark_df.collect()\n",
    "    \n",
    "    # Extract hours and counts\n",
    "    hours = [row['hour'] for row in results]\n",
    "    counts = [row['count'] for row in results]\n",
    "    \n",
    "    # Plot the data\n",
    "    plt.figure(figsize=(10, 6))\n",
    "    plt.bar(hours, counts, color='skyblue')\n",
    "    plt.xlabel('Hour of the Day')\n",
    "    plt.ylabel('Number of Trips')\n",
    "    plt.title('Distribution of Trips Across Different Hours of the Day')\n",
    "    plt.xticks(range(0, 24))\n",
    "    plt.grid(axis='y')\n",
    "    \n",
    "    # Identify peak hours\n",
    "    max_count = max(counts)\n",
    "    peak_hours = [hours[i] for i in range(len(counts)) if counts[i] == max_count]\n",
    "    \n",
    "    # Annotate the bars and highlight peak hours\n",
    "    for i in range(len(hours)):\n",
    "        plt.text(hours[i], counts[i], str(round(counts[i]/1000)) + 'K', ha='center', va='bottom')\n",
    "        if hours[i] in peak_hours:\n",
    "            plt.gca().patches[i].set_color('orange')\n",
    "    \n",
    "    plt.tight_layout()\n",
    "    plt.show()"
   ]
  },
  {
   "cell_type": "code",
   "execution_count": 12,
   "id": "38ba6eb2-2feb-408d-87c4-65f11ff1a2ab",
   "metadata": {},
   "outputs": [],
   "source": [
    "def save_dataframe_to_hdfs(df, result_dir):\n",
    "    df = df.coalesce(1)\n",
    "    df.write.csv(result_dir, header=True, mode='overwrite')"
   ]
  },
  {
   "cell_type": "markdown",
   "id": "2afb44e0-3b10-41f2-a7b6-63d57615f942",
   "metadata": {},
   "source": [
    "## Run SparkSession"
   ]
  },
  {
   "cell_type": "code",
   "execution_count": 13,
   "id": "d110557f-d185-42af-b4bf-58417a72be35",
   "metadata": {},
   "outputs": [
    {
     "name": "stderr",
     "output_type": "stream",
     "text": [
      "Setting default log level to \"WARN\".\n",
      "To adjust logging level use sc.setLogLevel(newLevel). For SparkR, use setLogLevel(newLevel).\n",
      "24/07/25 23:57:40 WARN NativeCodeLoader: Unable to load native-hadoop library for your platform... using builtin-java classes where applicable\n"
     ]
    }
   ],
   "source": [
    "spark = SparkSession.builder \\\n",
    "    .appName(\"NYC Taxi Data Analysis\") \\\n",
    "    .master(\"spark://spark-master:7077\") \\\n",
    "    .getOrCreate()\n",
    "\n",
    "output_dir = \"hdfs://hadoop-single:9000/data\"\n",
    "result_dir = \"hdfs://hadoop-single:9000/result\"\n",
    "start_date = \"2023-01\"\n",
    "end_date = \"2023-01\""
   ]
  },
  {
   "cell_type": "code",
   "execution_count": 14,
   "id": "a85d26fe-ad4f-4f0f-b999-36518b79fe76",
   "metadata": {},
   "outputs": [
    {
     "name": "stderr",
     "output_type": "stream",
     "text": [
      "                                                                                \r"
     ]
    }
   ],
   "source": [
    "# load dataframe from hdfs\n",
    "df = merge_data(spark, output_dir, start_date, end_date)"
   ]
  },
  {
   "cell_type": "code",
   "execution_count": 15,
   "id": "e8480f64-6de6-4f4e-b0b2-68463913011a",
   "metadata": {},
   "outputs": [
    {
     "name": "stderr",
     "output_type": "stream",
     "text": [
      "                                                                                \r"
     ]
    },
    {
     "name": "stdout",
     "output_type": "stream",
     "text": [
      "Total Counts Before Remove Missing Values From DataFrame:  18479031\n"
     ]
    },
    {
     "name": "stderr",
     "output_type": "stream",
     "text": [
      "[Stage 4:======================================================>  (19 + 1) / 20]\r"
     ]
    },
    {
     "name": "stdout",
     "output_type": "stream",
     "text": [
      "Total Counts After Remove Missing Values From DataFrame:  13587039\n"
     ]
    },
    {
     "name": "stderr",
     "output_type": "stream",
     "text": [
      "                                                                                \r"
     ]
    }
   ],
   "source": [
    "# remove rows which have missing value\n",
    "print(\"Total Counts Before Remove Missing Values From DataFrame: \", df.count())\n",
    "df = preprocess_msvalue(df, \"remove\")\n",
    "print(\"Total Counts After Remove Missing Values From DataFrame: \", df.count())"
   ]
  },
  {
   "cell_type": "code",
   "execution_count": 16,
   "id": "1ce02734-56dc-4b6b-bb92-fca9e2f207aa",
   "metadata": {},
   "outputs": [],
   "source": [
    "# convert timestamp\n",
    "df = convert_time_to_timestamp(df)"
   ]
  },
  {
   "cell_type": "code",
   "execution_count": 17,
   "id": "fd37ffc4-bfa1-4043-8121-14b4110d32cc",
   "metadata": {},
   "outputs": [
    {
     "name": "stderr",
     "output_type": "stream",
     "text": [
      "                                                                                \r"
     ]
    },
    {
     "name": "stdout",
     "output_type": "stream",
     "text": [
      "Total Counts Before Remove Invalid Values from DataFrame:  13587039\n"
     ]
    },
    {
     "name": "stderr",
     "output_type": "stream",
     "text": [
      "[Stage 10:=====================================================>  (19 + 1) / 20]\r"
     ]
    },
    {
     "name": "stdout",
     "output_type": "stream",
     "text": [
      "Total Counts After Remove Invalid Values from DataFrame:  13573583\n"
     ]
    },
    {
     "name": "stderr",
     "output_type": "stream",
     "text": [
      "                                                                                \r"
     ]
    }
   ],
   "source": [
    "# remove invalid values\n",
    "print(\"Total Counts Before Remove Invalid Values from DataFrame: \", df.count())\n",
    "df = remove_invalid_values(df)\n",
    "print(\"Total Counts After Remove Invalid Values from DataFrame: \", df.count())\n"
   ]
  },
  {
   "cell_type": "code",
   "execution_count": 18,
   "id": "a8f3a317-f17d-4c36-a525-5e5f896bfe4d",
   "metadata": {},
   "outputs": [
    {
     "name": "stderr",
     "output_type": "stream",
     "text": [
      "                                                                                \r"
     ]
    }
   ],
   "source": [
    "# calculate trip avg time/distance\n",
    "avg_time = calculate_trip_avg_duration(df)\n",
    "avg_dist = calculate_trip_avg_distance(df)"
   ]
  },
  {
   "cell_type": "code",
   "execution_count": 19,
   "id": "04938deb-cac8-4577-8ab3-d221b9865906",
   "metadata": {},
   "outputs": [
    {
     "name": "stdout",
     "output_type": "stream",
     "text": [
      "Average trip time: 1100.75 seconds\n",
      "Average trip distance: 4.42 miles\n"
     ]
    }
   ],
   "source": [
    "print(\"Average trip time:\", round(avg_time, 2), \"seconds\")\n",
    "print(\"Average trip distance:\", round(avg_dist, 2), \"miles\")"
   ]
  },
  {
   "cell_type": "code",
   "execution_count": 20,
   "id": "8c71b581-299a-45ed-a332-5726d6453093",
   "metadata": {},
   "outputs": [],
   "source": [
    "# find peak_hour and vis\n",
    "hourly_trips_df = calculate_peak_hours(df)"
   ]
  },
  {
   "cell_type": "code",
   "execution_count": 21,
   "id": "de213b34-1046-4b48-a1e9-0f5a3d30fdcb",
   "metadata": {},
   "outputs": [
    {
     "name": "stderr",
     "output_type": "stream",
     "text": [
      "                                                                                \r"
     ]
    },
    {
     "data": {
      "image/png": "[encoded data removed]",
      "text/plain": [
       "<Figure size 1000x600 with 1 Axes>"
      ]
     },
     "metadata": {},
     "output_type": "display_data"
    }
   ],
   "source": [
    "vis_peak_hours(hourly_trips_df)"
   ]
  },
  {
   "cell_type": "code",
   "execution_count": 22,
   "id": "05ba17f6-dfb8-425e-b5b0-d0d289b556d2",
   "metadata": {},
   "outputs": [
    {
     "name": "stderr",
     "output_type": "stream",
     "text": [
      "                                                                                \r"
     ]
    }
   ],
   "source": [
    "# 전처리된 데이터 저장을 위한 HDFS 명령어 실행\n",
    "save_dataframe_to_hdfs(df, result_dir)"
   ]
  },
  {
   "cell_type": "markdown",
   "id": "9ddc4037-0bd7-4635-8fa5-21ddd5154983",
   "metadata": {},
   "source": [
    "### Load Weather Data"
   ]
  },
  {
   "cell_type": "code",
   "execution_count": 23,
   "id": "556c6660-e534-4964-90fb-708d9110e8cb",
   "metadata": {},
   "outputs": [],
   "source": [
    "ndf = spark.read.csv(output_dir+\"/us_time.csv\")"
   ]
  },
  {
   "cell_type": "code",
   "execution_count": 24,
   "id": "21aa2b00-1dba-4dbc-9e82-e120c8c65346",
   "metadata": {},
   "outputs": [
    {
     "name": "stderr",
     "output_type": "stream",
     "text": [
      "24/07/25 23:59:59 WARN package: Truncated the string representation of a plan since it was too large. This behavior can be adjusted by setting 'spark.sql.debug.maxToStringFields'.\n"
     ]
    }
   ],
   "source": [
    "first_row = ndf.first()\n",
    "columns = [str(cell) for cell in first_row]\n",
    "\n",
    "# 첫 번째 행을 제외한 데이터 로드\n",
    "ndf = ndf.filter(ndf['_c0'] != first_row[0])\n",
    "ndf = ndf.toDF(*columns)"
   ]
  },
  {
   "cell_type": "markdown",
   "id": "e7a81f20-8b3d-4a19-bc4b-18079b272f35",
   "metadata": {},
   "source": [
    "### Preprocess Weather Data (avg temp, hum, ..)"
   ]
  },
  {
   "cell_type": "markdown",
   "id": "a035b529-7486-44d6-8e2b-e076c6d3d225",
   "metadata": {},
   "source": [
    "- 타겟을 뭘로 할까? => 강수량 / 온도 / 습도 / 풍량 정도의 데이터를 추출해보고자 함. \n",
    "- 동일한 row가 존재할 수 있기에, 중복을 제거하는 과정을 거친다.\n",
    "- 강수량의 컬럼은 AA1/AA2/...이며, 특정 시간대에는 강수량이 두번 이상 측정되는 경우가 있음. (01, 0003, 9, 5) -> 1시간 동안의 강수량이 0.3mm이다 라는 뜻\n",
    "- 실제 데이터는 UTC 데이터를 기준으로 하기에, NYC는 UTC를 기준으로 4시간이 느리다 => 변경해줘야 정확한 시간 비교가 가능함.\n",
    "- 온도(TMP)는 0078로 표기되며, => 7.8'C를 의미함. +9999 => 누락 값.\n",
    "- WND는 (direc, direc_quality, observe type, speed, speed_quality)로 구성되며, (170, 1, N, 0015, 1)일 경우 풍향이 170도이며 속도가 초당 1.5m임을 의미함. 여기 또한 +9999는 누락값."
   ]
  },
  {
   "cell_type": "markdown",
   "id": "4a5cf385-8b10-40c2-8e5c-a80b6e3fb1e8",
   "metadata": {},
   "source": [
    "데이터 생성"
   ]
  },
  {
   "cell_type": "code",
   "execution_count": 25,
   "id": "431b249b-b304-44ec-8b8d-4020f0e0c757",
   "metadata": {},
   "outputs": [],
   "source": [
    "not_use_cols = ['NAME', 'REPORT_TYPE', 'CALL_SIGN', 'QUALITY_CONTROL', 'CIG', 'VIS', 'DEW', 'SLP', 'AA2', 'AA3', 'AB1', 'AD1', 'AE1', 'AH1', 'AH2', 'AH3', \n",
    "                'AH4', 'AH5', 'AH6', 'AI1', 'AI2', 'AI3', 'AI4', 'AI5', 'AI6', 'AJ1', 'AK1', 'AL1', 'AM1', 'AN1', 'AT1', 'AT2', 'AT3', 'AT4', 'AT5', 'AU1',\n",
    "                'AU2', 'AW1', 'AW2', 'AW3', 'AX1', 'AX2', 'AX3', 'AX4', 'GA1', 'GA2', 'GA3', 'GD1', 'GD2', 'GD3', 'GE1', 'GF1', 'KA1', 'KA2', 'KB1', 'KB2',\n",
    "                'KB3', 'KC1', 'KC2', 'KD1', 'KD2', 'KE1', 'KG1', 'KG2', 'MA1', 'MD1', 'MF1', 'MG1', 'MH1', 'MK1', 'MW1', 'OC1', 'OD1', 'OE1', 'OE2', 'OE3',\n",
    "                'RH1', 'RH2', 'RH3', 'WA1', 'REM', 'EQD', 'SOURCE', 'LATITUDE', 'LONGITUDE', 'ELEVATION']"
   ]
  },
  {
   "cell_type": "code",
   "execution_count": 26,
   "id": "2cde3705-610b-4f82-b9f1-492306b989a4",
   "metadata": {},
   "outputs": [],
   "source": [
    "for col_name in not_use_cols:\n",
    "    ndf = ndf.drop(col_name)"
   ]
  },
  {
   "cell_type": "code",
   "execution_count": 27,
   "id": "84a8b630-7809-44d4-ad83-7b6ccfa6f619",
   "metadata": {},
   "outputs": [],
   "source": [
    "# TMP / WND 전처리\n",
    "ndf = ndf.withColumn('Temperature(C)', F.regexp_extract('TMP', r'(\\+|-)?\\d{4}', 0).cast('int') / 10) # 섭씨 온도\n",
    "ndf = ndf.withColumn('Wind_Power(m/s)', F.regexp_extract('WND', r'\\d{3},\\d,[A-Z],(\\d{4})', 1).cast('int') / 10) # 풍속"
   ]
  },
  {
   "cell_type": "code",
   "execution_count": 28,
   "id": "8518f8bf-3635-4acb-8264-fade4281b885",
   "metadata": {},
   "outputs": [],
   "source": [
    "# UTC => 실제 뉴욕 시간으로 변경\n",
    "ndf = ndf.withColumn('DATE', F.col('DATE').cast('timestamp'))\n",
    "ndf = ndf.withColumn('DATE', F.col('DATE') - F.expr('INTERVAL 4 HOURS'))"
   ]
  },
  {
   "cell_type": "code",
   "execution_count": 29,
   "id": "c53d1229-d5f6-443f-9a81-0e5182c06b9a",
   "metadata": {},
   "outputs": [],
   "source": [
    "# 강수량 전처리\n",
    "ndf = ndf.withColumn('RAIN_PER_HOUR', F.regexp_extract('AA1', r'\\d{2},(\\d{4})', 1).cast('int') / 10) # 강수량"
   ]
  },
  {
   "cell_type": "code",
   "execution_count": 30,
   "id": "6ccf81f8-026b-483d-8a4b-1d0cab42ad16",
   "metadata": {},
   "outputs": [],
   "source": [
    "# 일별 시간대 컬럼 추가\n",
    "ndf = ndf.withColumn('DAY', F.dayofmonth(F.col('DATE')))\n",
    "ndf = ndf.withColumn('HOUR', F.hour(F.col('DATE')))\n",
    "ndf = ndf.withColumn('MONTH', F.month(F.col('DATE'))) \n",
    "ndf = ndf.withColumn('Year', F.year(F.col('DATE')))"
   ]
  },
  {
   "cell_type": "markdown",
   "id": "b8827986-db47-4150-96b7-7c188db6353b",
   "metadata": {},
   "source": [
    "데이터 전처리"
   ]
  },
  {
   "cell_type": "code",
   "execution_count": 31,
   "id": "606b3a37-a42a-48ae-8b0f-200647d1e54c",
   "metadata": {},
   "outputs": [
    {
     "name": "stdout",
     "output_type": "stream",
     "text": [
      "Before count: 11842\n",
      "After count: 11824\n"
     ]
    }
   ],
   "source": [
    "# DATE가 동일한 컬럼 제거\n",
    "print(\"Before count:\", ndf.count())\n",
    "ndf = ndf.dropDuplicates(['DATE'])\n",
    "print(\"After count:\", ndf.count())"
   ]
  },
  {
   "cell_type": "code",
   "execution_count": 32,
   "id": "8c8b76cf-2247-464e-b270-d7948c91dcca",
   "metadata": {},
   "outputs": [],
   "source": [
    "# temperature 결측치 처리\n",
    "ndf = ndf.withColumn('Temperature(C)', F.when(F.col('Temperature(C)') == 999.9, None).otherwise(F.col('Temperature(C)')))\n",
    "window_spec = Window.partitionBy('STATION').orderBy('DATE').rowsBetween(-3, 3)\n",
    "ndf = ndf.withColumn('Temperature(C)', F.when(F.col('Temperature(C)').isNull(), F.avg('Temperature(C)').over(window_spec)).otherwise(F.col('Temperature(C)')))"
   ]
  },
  {
   "cell_type": "code",
   "execution_count": 33,
   "id": "ede288e0-69b2-426f-884d-ed441312a443",
   "metadata": {},
   "outputs": [],
   "source": [
    "# wind_power 결측치 처리\n",
    "ndf = ndf.withColumn('Wind_Power(m/s)', F.when(F.col('Wind_Power(m/s)') == 999.9, None).otherwise(F.col('Wind_Power(m/s)')))\n",
    "window_spec = Window.partitionBy('STATION').orderBy('DATE').rowsBetween(-3, 3)\n",
    "ndf = ndf.withColumn('Wind_Power(m/s)', F.when(F.col('Wind_Power(m/s)').isNull(), F.avg('Wind_Power(m/s)').over(window_spec)).otherwise(F.col('Wind_Power(m/s)')))"
   ]
  },
  {
   "cell_type": "code",
   "execution_count": 34,
   "id": "16a56724-bc3b-4e3d-9b5d-5f3e4a1963d8",
   "metadata": {},
   "outputs": [],
   "source": [
    "# RAIN_PER_HOUR\n",
    "ndf = ndf.withColumn('RAIN_PER_HOUR', F.when(F.col('RAIN_PER_HOUR') == 999.9, None).otherwise(F.col('RAIN_PER_HOUR')))\n",
    "window_spec = Window.partitionBy('STATION').orderBy('DATE').rowsBetween(-3, 3)\n",
    "ndf = ndf.withColumn('RAIN_PER_HOUR', F.when(F.col('RAIN_PER_HOUR').isNull(), F.avg('RAIN_PER_HOUR').over(window_spec)).otherwise(F.col('RAIN_PER_HOUR')))"
   ]
  },
  {
   "cell_type": "code",
   "execution_count": 35,
   "id": "d3aee33b-fe9d-4f94-acaf-6b9e3984d120",
   "metadata": {},
   "outputs": [
    {
     "name": "stdout",
     "output_type": "stream",
     "text": [
      "+-------------------+-------+--------------+-----------+------------------+------------------+------------------+\n",
      "|DATE               |TMP    |WND           |AA1        |Temperature(C)    |Wind_Power(m/s)   |RAIN_PER_HOUR     |\n",
      "+-------------------+-------+--------------+-----------+------------------+------------------+------------------+\n",
      "|2022-12-31 20:06:00|+0100,5|999,9,C,0000,5|01,0000,2,1|10.0              |0.0               |0.0               |\n",
      "|2022-12-31 20:18:00|+0100,5|030,5,N,0015,5|01,0000,2,1|10.0              |1.5               |0.0               |\n",
      "|2022-12-31 20:31:00|+0100,5|999,9,C,0000,5|01,0002,3,1|10.0              |0.0               |0.2               |\n",
      "|2022-12-31 20:44:00|+0100,5|999,9,C,0000,5|01,0005,3,1|10.0              |0.0               |0.5               |\n",
      "|2022-12-31 20:49:00|+0100,5|999,9,C,0000,5|null       |10.0              |0.0               |0.4166666666666667|\n",
      "|2022-12-31 20:51:00|+0100,5|999,9,C,0000,5|01,0008,9,5|10.0              |0.0               |0.8               |\n",
      "|2022-12-31 21:19:00|+0106,5|999,9,C,0000,5|01,0005,3,1|10.6              |0.0               |0.5               |\n",
      "|2022-12-31 21:27:00|+0117,5|999,9,V,0015,5|01,0005,3,1|11.7              |1.5               |0.5               |\n",
      "|2022-12-31 21:51:00|+0128,5|250,5,N,0031,5|01,0010,9,5|12.8              |3.1               |1.0               |\n",
      "|2022-12-31 22:49:00|+0120,5|999,9,V,0026,5|null       |12.0              |2.6               |1.05              |\n",
      "|2022-12-31 22:51:00|+0122,5|999,9,C,0000,5|01,0028,9,5|12.2              |0.0               |2.8               |\n",
      "|2022-12-31 23:01:00|+0122,5|230,5,N,0026,5|01,0005,3,1|12.2              |2.6               |0.5               |\n",
      "|2022-12-31 23:35:00|+0128,5|220,5,N,0026,5|01,0010,3,1|12.8              |2.6               |1.0               |\n",
      "|2022-12-31 23:51:00|+0128,5|280,5,N,0026,5|01,0008,9,5|12.8              |2.6               |0.8               |\n",
      "|2023-01-01 00:05:00|+0122,5|999,9,C,0000,5|01,0000,2,1|12.2              |0.0               |0.0               |\n",
      "|2023-01-01 00:34:00|+0122,5|230,5,N,0036,5|01,0000,2,1|12.2              |3.6               |0.0               |\n",
      "|2023-01-01 00:51:00|+0122,5|999,9,C,0000,5|01,0003,9,5|12.2              |0.0               |0.3               |\n",
      "|2023-01-01 00:59:00|+9999,9|999,9,9,9999,9|24,0071,9,5|12.166666666666666|1.4666666666666668|7.1               |\n",
      "|2023-01-01 01:20:00|+0122,5|999,9,C,0000,5|01,0000,2,1|12.2              |0.0               |0.0               |\n",
      "|2023-01-01 01:36:00|+0122,5|230,5,N,0031,5|01,0000,2,1|12.2              |3.1               |0.0               |\n",
      "+-------------------+-------+--------------+-----------+------------------+------------------+------------------+\n",
      "only showing top 20 rows\n",
      "\n"
     ]
    }
   ],
   "source": [
    "ndf.select('DATE', 'TMP', 'WND', 'AA1', 'Temperature(C)', 'Wind_Power(m/s)', 'RAIN_PER_HOUR').show(20, truncate=False)"
   ]
  },
  {
   "cell_type": "code",
   "execution_count": 36,
   "id": "534196a0-5912-4cfb-9b1d-20c68c62044c",
   "metadata": {},
   "outputs": [],
   "source": [
    "average_df = ndf.groupBy('Year', 'Month', 'Day', 'Hour').agg(\n",
    "    F.round(F.avg('Temperature(C)'), 2).alias('Avg_temp(C)'),\n",
    "    F.round(F.avg('Wind_Power(m/s)'), 2).alias('Avg_wind_power(m/s)'),\n",
    "    F.round(F.avg('RAIN_PER_HOUR'), 2).alias('Avg_rain_per_hour(mm)')\n",
    ").orderBy('Year', 'Month', 'Day', 'Hour')"
   ]
  },
  {
   "cell_type": "code",
   "execution_count": 37,
   "id": "0c80d3ac-5589-46fe-9723-b63445105609",
   "metadata": {},
   "outputs": [
    {
     "name": "stdout",
     "output_type": "stream",
     "text": [
      "+----+-----+---+----+-----------+-------------------+---------------------+\n",
      "|Year|Month|Day|Hour|Avg_temp(C)|Avg_wind_power(m/s)|Avg_rain_per_hour(mm)|\n",
      "+----+-----+---+----+-----------+-------------------+---------------------+\n",
      "|2022|   12| 31|  20|       10.0|               0.25|                 0.32|\n",
      "|2022|   12| 31|  21|       11.7|               1.53|                 0.67|\n",
      "|2022|   12| 31|  22|       12.1|                1.3|                 1.92|\n",
      "|2022|   12| 31|  23|       12.6|                2.6|                 0.77|\n",
      "|2023|    1|  1|   0|      12.19|               1.27|                 1.85|\n",
      "|2023|    1|  1|   1|      12.02|               1.95|                  0.3|\n",
      "|2023|    1|  1|   2|       11.7|                3.6|                  0.0|\n",
      "|2023|    1|  1|   3|       11.1|                2.6|                  0.0|\n",
      "|2023|    1|  1|   4|       11.7|                4.1|                  0.0|\n",
      "|2023|    1|  1|   5|       11.1|                2.1|                  0.0|\n",
      "|2023|    1|  1|   6|       10.6|                1.5|                  0.0|\n",
      "|2023|    1|  1|   7|       10.6|                2.1|                  0.0|\n",
      "|2023|    1|  1|   8|       10.0|                2.6|                  0.0|\n",
      "|2023|    1|  1|   9|       10.0|                3.1|                  0.0|\n",
      "|2023|    1|  1|  10|       11.1|                3.1|                  0.0|\n",
      "|2023|    1|  1|  11|       11.7|                2.6|                  0.0|\n",
      "|2023|    1|  1|  12|       11.1|                3.6|                  0.0|\n",
      "|2023|    1|  1|  13|       11.7|                4.6|                  0.0|\n",
      "|2023|    1|  1|  14|       12.2|                2.6|                  0.0|\n",
      "|2023|    1|  1|  15|       11.7|                3.1|                  0.0|\n",
      "+----+-----+---+----+-----------+-------------------+---------------------+\n",
      "only showing top 20 rows\n",
      "\n"
     ]
    }
   ],
   "source": [
    "average_df.show(20)"
   ]
  },
  {
   "cell_type": "markdown",
   "id": "cf963941-5465-45f1-abfc-5f06d30cf7d8",
   "metadata": {},
   "source": [
    "### Merge Preprocessed Dataframe and Weather Dataframe"
   ]
  },
  {
   "cell_type": "code",
   "execution_count": 38,
   "id": "1f0350c1-492d-49ee-bbf7-dddcffbd3864",
   "metadata": {},
   "outputs": [],
   "source": [
    "df = df.withColumn('Year', F.year(F.col('request_datetime')))\n",
    "df = df.withColumn('Month', F.month(F.col('request_datetime')))\n",
    "df = df.withColumn('Day', F.dayofmonth(F.col('request_datetime')))\n",
    "df = df.withColumn('Hour', F.hour(F.col('request_datetime')))"
   ]
  },
  {
   "cell_type": "code",
   "execution_count": 39,
   "id": "ca26fd70-2129-4cf0-b55e-3d3db8b0c7d1",
   "metadata": {},
   "outputs": [],
   "source": [
    "merged_df = df.join(average_df, on=['Year', 'Month', 'Day', 'Hour'])"
   ]
  },
  {
   "cell_type": "code",
   "execution_count": 40,
   "id": "08e8b316-f622-413a-a906-d2d99b6c1040",
   "metadata": {},
   "outputs": [
    {
     "name": "stderr",
     "output_type": "stream",
     "text": [
      "                                                                                \r"
     ]
    },
    {
     "data": {
      "image/png": "[encoded data removed]",
      "text/plain": [
       "<Figure size 1000x600 with 1 Axes>"
      ]
     },
     "metadata": {},
     "output_type": "display_data"
    }
   ],
   "source": [
    "## 기온 구간 별 평균 여행객 수 계산\n",
    "merged_df = merged_df.withColumn(\n",
    "    'temp_bin',\n",
    "    F.when(F.col('Avg_temp(C)') < 0, 'Below 0')\n",
    "     .when((F.col('Avg_temp(C)') >= 0) & (F.col('Avg_temp(C)') < 10), '0-10')\n",
    "     .when((F.col('Avg_temp(C)') >= 10) & (F.col('Avg_temp(C)') < 20), '10-20')\n",
    "     .when((F.col('Avg_temp(C)') >= 20) & (F.col('Avg_temp(C)') < 30), '20-30')\n",
    "     .otherwise('Above 30')\n",
    ")\n",
    "\n",
    "# 그룹화\n",
    "temp_bin_trip_count = merged_df.groupBy('temp_bin').agg(\n",
    "    F.count('hvfhs_license_num').alias('trip_count')\n",
    ")\n",
    "\n",
    "temp_bin_trip_count_data = temp_bin_trip_count.collect()\n",
    "\n",
    "# 데이터 추출\n",
    "temp_bins = [row['temp_bin'] for row in temp_bin_trip_count_data]\n",
    "trip_counts = [row['trip_count'] for row in temp_bin_trip_count_data]\n",
    "\n",
    "# 시각화\n",
    "plt.figure(figsize=(10, 6))\n",
    "plt.bar(temp_bins, trip_counts, color='skyblue')\n",
    "plt.xlabel('Temperature Bin')\n",
    "plt.ylabel('Trip Count')\n",
    "plt.title('Trip Count by Temperature Bin')\n",
    "\n",
    "max_count = max(trip_counts)\n",
    "peak = [temp_bins[i] for i in range(len(trip_counts)) if trip_counts[i] == max_count]\n",
    "\n",
    "# Annotate the bars and highlight peak hours\n",
    "for i in range(len(temp_bins)):\n",
    "    plt.text(temp_bins[i], trip_counts[i], str(round(trip_counts[i]/1000)) + 'K', ha='center', va='bottom')\n",
    "    if temp_bins[i] in peak:\n",
    "        plt.gca().patches[i].set_color('orange')\n",
    "\n",
    "plt.show()"
   ]
  },
  {
   "cell_type": "code",
   "execution_count": 41,
   "id": "66267edc-f94d-401f-b783-145ccb324032",
   "metadata": {},
   "outputs": [
    {
     "name": "stderr",
     "output_type": "stream",
     "text": [
      "                                                                                \r"
     ]
    },
    {
     "data": {
      "image/png": "[encoded data removed]",
      "text/plain": [
       "<Figure size 1000x600 with 1 Axes>"
      ]
     },
     "metadata": {},
     "output_type": "display_data"
    }
   ],
   "source": [
    "## 바람 세기 구간 별 평균 여행객 수 계산\n",
    "merged_df = merged_df.withColumn(\n",
    "    'rain_bin',\n",
    "    F.when(F.col('Avg_rain_per_hour(mm)') == 0, 'No Rain')\n",
    "     .when((F.col('Avg_rain_per_hour(mm)') > 0) & (F.col('Avg_rain_per_hour(mm)') <= 1), 'Light Rain')\n",
    "     .when((F.col('Avg_rain_per_hour(mm)') > 1) & (F.col('Avg_rain_per_hour(mm)') <= 5), 'Moderate Rain')\n",
    "     .when((F.col('Avg_rain_per_hour(mm)') > 5) & (F.col('Avg_rain_per_hour(mm)') <= 10), 'Heavy Rain')\n",
    "     .otherwise('Very Heavy Rain')\n",
    ")\n",
    "\n",
    "# 그룹화\n",
    "rain_bin_trip_count = merged_df.groupBy('rain_bin').agg(\n",
    "    F.count('hvfhs_license_num').alias('trip_count')\n",
    ")\n",
    "\n",
    "rain_bin_trip_count_data = rain_bin_trip_count.collect()\n",
    "\n",
    "# 데이터 추출\n",
    "rain_bins = [row['rain_bin'] for row in rain_bin_trip_count_data]\n",
    "trip_counts = [row['trip_count'] for row in rain_bin_trip_count_data]\n",
    "\n",
    "# 시각화\n",
    "plt.figure(figsize=(10, 6))\n",
    "plt.bar(rain_bins, trip_counts, color='skyblue')\n",
    "plt.xlabel('Rain Bin')\n",
    "plt.ylabel('Trip Count')\n",
    "plt.title('Trip Count by Rain Bin')\n",
    "\n",
    "max_count = max(trip_counts)\n",
    "peak = [rain_bins[i] for i in range(len(trip_counts)) if trip_counts[i] == max_count]\n",
    "\n",
    "# Annotate the bars and highlight peak hours\n",
    "for i in range(len(rain_bins)):\n",
    "    plt.text(rain_bins[i], trip_counts[i], str(round(trip_counts[i]/1000)) + 'K', ha='center', va='bottom')\n",
    "    if rain_bins[i] in peak:\n",
    "        plt.gca().patches[i].set_color('orange')\n",
    "\n",
    "plt.show()"
   ]
  },
  {
   "cell_type": "code",
   "execution_count": 42,
   "id": "88e0170f-9427-4b1d-a971-eb73af1c0826",
   "metadata": {},
   "outputs": [
    {
     "name": "stderr",
     "output_type": "stream",
     "text": [
      "                                                                                \r"
     ]
    },
    {
     "data": {
      "image/png": "[encoded data removed]",
      "text/plain": [
       "<Figure size 1000x600 with 1 Axes>"
      ]
     },
     "metadata": {},
     "output_type": "display_data"
    }
   ],
   "source": [
    "# 바람 세기 구간 별 평균 여행객 수 계산\n",
    "merged_df = merged_df.withColumn(\n",
    "    'wind_bin',\n",
    "    F.when(F.col('Avg_wind_power(m/s)') < 1, 'Calm')\n",
    "     .when((F.col('Avg_wind_power(m/s)') >= 1) & (F.col('Avg_wind_power(m/s)') < 5), 'Light Breeze')\n",
    "     .when((F.col('Avg_wind_power(m/s)') >= 5) & (F.col('Avg_wind_power(m/s)') < 10), 'Moderate Breeze')\n",
    "     .when((F.col('Avg_wind_power(m/s)') >= 10) & (F.col('Avg_wind_power(m/s)') < 15), 'Strong Breeze')\n",
    "     .otherwise('Gale')\n",
    ")\n",
    "\n",
    "# 그룹화\n",
    "wind_bin_trip_count = merged_df.groupBy('wind_bin').agg(\n",
    "    F.count('hvfhs_license_num').alias('trip_count')\n",
    ")\n",
    "\n",
    "wind_bin_trip_count_data = wind_bin_trip_count.collect()\n",
    "\n",
    "# 데이터 추출\n",
    "wind_bins = [row['wind_bin'] for row in wind_bin_trip_count_data]\n",
    "trip_counts = [row['trip_count'] for row in wind_bin_trip_count_data]\n",
    "\n",
    "# 시각화\n",
    "plt.figure(figsize=(10, 6))\n",
    "plt.bar(wind_bins, trip_counts, color='skyblue')\n",
    "plt.xlabel('Wind Speed Bin')\n",
    "plt.ylabel('Trip Count')\n",
    "plt.title('Trip Count by Wind Speed Bin')\n",
    "\n",
    "# 수치화\n",
    "max_count = max(trip_counts)\n",
    "peak = [wind_bins[i] for i in range(len(trip_counts)) if trip_counts[i] == max_count]\n",
    "\n",
    "# Annotate the bars and highlight peak hours\n",
    "for i in range(len(wind_bins)):\n",
    "    plt.text(wind_bins[i], trip_counts[i], str(round(trip_counts[i]/1000)) + 'K', ha='center', va='bottom')\n",
    "    if wind_bins[i] in peak:\n",
    "        plt.gca().patches[i].set_color('orange')\n",
    "\n",
    "plt.show()"
   ]
  },
  {
   "cell_type": "code",
   "execution_count": null,
   "id": "dc06d6d5-8717-4b9f-a0e1-d1c728477d52",
   "metadata": {},
   "outputs": [],
   "source": []
  }
 ],
 "metadata": {
  "kernelspec": {
   "display_name": "Python 3 (ipykernel)",
   "language": "python",
   "name": "python3"
  },
  "language_info": {
   "codemirror_mode": {
    "name": "ipython",
    "version": 3
   },
   "file_extension": ".py",
   "mimetype": "text/x-python",
   "name": "python",
   "nbconvert_exporter": "python",
   "pygments_lexer": "ipython3",
   "version": "3.10.14"
  }
 },
 "nbformat": 4,
 "nbformat_minor": 5
}
